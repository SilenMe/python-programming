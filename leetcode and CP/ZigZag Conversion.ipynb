{
 "cells": [
  {
   "cell_type": "markdown",
   "metadata": {},
   "source": [
    "The string \"PAYPALISHIRING\" is written in a zigzag pattern on a given number of rows like this: (you may want to display this pattern in a fixed font for better legibility)\n",
    "\n",
    "P _ _ _A _ _ _H _ _ _ N  \n",
    "_ A _P _ L _S _ I_ _ I _ G     #like snake  \n",
    "_ _ Y _ _ _I _ _  _R  \n",
    "And then read line by line: \"PAHNAPLSIIGYIR\"\n",
    "\n",
    "Write the code that will take a string and make this conversion given a number of rows:\n",
    "\n",
    "string convert(string s, int numRows);\n",
    " \n",
    "\n",
    "Example 1:\n",
    "\n",
    "Input: s = \"PAYPALISHIRING\", numRows = 3  \n",
    "Output: \"PAHNAPLSIIGYIR\"  \n",
    "Example 2:  \n",
    "\n",
    "Input: s = \"PAYPALISHIRING\", numRows = 4  \n",
    "Output: \"PINALSIGYAHRPI\"  \n",
    "Explanation:  \n",
    "P_ _ _I _ _N  \n",
    "_A _ L S_ I G  \n",
    "_ Y_A _ H R  \n",
    "_ _P _ _ I  \n",
    "Example 3:  \n",
    "\n",
    "Input: s = \"A\", numRows = 1  \n",
    "Output: \"A\"\n",
    " \n",
    "\n",
    "Constraints:\n",
    "\n",
    "1 <= s.length <= 1000  \n",
    "s consists of English letters (lower-case and upper-case), ',' and '.'.  \n",
    "1 <= numRows <= 1000"
   ]
  },
  {
   "cell_type": "code",
   "execution_count": null,
   "metadata": {},
   "outputs": [],
   "source": [
    "class Solution:\n",
    "    def convert(self, s: str, numRows: int) -> str:\n",
    "        if numRows==1:\n",
    "            return s\n",
    "        \n",
    "        arr = [[] for _ in range(numRows)]\n",
    "        buc = -1\n",
    "        d = 0  # direction is zero for down 1 for up\n",
    "        for i in range(len(s)):\n",
    "\n",
    "            if d == 0:\n",
    "                buc += 1\n",
    "                if buc == numRows - 1:\n",
    "                    d = 1\n",
    "            else:\n",
    "                buc -= 1\n",
    "                if buc == 0:\n",
    "                    d = 0\n",
    "            arr[buc].append(s[i])\n",
    "        r = ''\n",
    "\n",
    "        for i in range(len(arr)):\n",
    "            for item in arr[i]:\n",
    "                r = r + item\n",
    "        return r\n",
    "\n",
    "        \n",
    "        "
   ]
  }
 ],
 "metadata": {
  "kernelspec": {
   "display_name": "Python 3",
   "language": "python",
   "name": "python3"
  },
  "language_info": {
   "codemirror_mode": {
    "name": "ipython",
    "version": 3
   },
   "file_extension": ".py",
   "mimetype": "text/x-python",
   "name": "python",
   "nbconvert_exporter": "python",
   "pygments_lexer": "ipython3",
   "version": "3.7.6"
  }
 },
 "nbformat": 4,
 "nbformat_minor": 4
}
