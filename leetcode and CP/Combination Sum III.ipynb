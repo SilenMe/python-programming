{
 "cells": [
  {
   "cell_type": "markdown",
   "metadata": {},
   "source": [
    "Find all valid combinations of k numbers that sum up to n such that the following conditions are true:\n",
    "\n",
    "Only numbers 1 through 9 are used.  \n",
    "Each number is used at most once.  \n",
    "Return a list of all possible valid combinations. The list must not contain the same combination twice, and the combinations may be returned in any order.\n",
    "\n",
    " \n",
    "\n",
    "Example 1:\n",
    "\n",
    "Input: k = 3, n = 7  \n",
    "Output: [[1,2,4]]  \n",
    "Explanation:  \n",
    "1 + 2 + 4 = 7  \n",
    "There are no other valid combinations.  \n",
    "Example 2:\n",
    "\n",
    "Input: k = 3, n = 9  \n",
    "Output: [[1,2,6],[1,3,5],[2,3,4]]  \n",
    "Explanation:  \n",
    "1 + 2 + 6 = 9  \n",
    "1 + 3 + 5 = 9  \n",
    "2 + 3 + 4 = 9  \n",
    "There are no other valid combinations.  \n",
    "Example 3: \n",
    "\n",
    "Input: k = 4, n = 1  \n",
    "Output: []  \n",
    "Explanation: There are no valid combinations. [1,2,1] is not valid because 1 is used twice.  \n",
    "Example 4:\n",
    "\n",
    "Input: k = 3, n = 2  \n",
    "Output: []\n",
    "Explanation: There are no valid combinations.  \n",
    "Example 5:\n",
    "\n",
    "Input: k = 9, n = 45  \n",
    "Output: [[1,2,3,4,5,6,7,8,9]]  \n",
    "Explanation:  \n",
    "1 + 2 + 3 + 4 + 5 + 6 + 7 + 8 + 9 = 45  \n",
    "​​​​​​​There are no other valid combinations.  \n",
    " \n",
    "\n",
    "Constraints:\n",
    "\n",
    "2 <= k <= 9  \n",
    "1 <= n <= 60"
   ]
  },
  {
   "cell_type": "code",
   "execution_count": null,
   "metadata": {},
   "outputs": [],
   "source": [
    "# backtracking\n",
    "class Solution:\n",
    "    def combinationSum3(self, k: int, n: int) -> List[List[int]]:\n",
    "        candidates=[1,2,3,4,5,6,7,8,9]\n",
    "        ans=[]\n",
    "        def iterable(cur,pos,k): #return will be easy after using other fuction\n",
    "            if k==0:\n",
    "                if sum((cur.copy()))==n:\n",
    "                    ans.append(cur.copy())\n",
    "                return\n",
    "            for i in range(pos,9):\n",
    "                if k<0:\n",
    "                    break #backtracking\n",
    "                cur.append(candidates[i])\n",
    "                iterable(cur,i+1,k-1)\n",
    "                cur.pop()\n",
    "        iterable([],0,k) # cur,pos,t\n",
    "        return ans"
   ]
  }
 ],
 "metadata": {
  "kernelspec": {
   "display_name": "Python 3",
   "language": "python",
   "name": "python3"
  },
  "language_info": {
   "codemirror_mode": {
    "name": "ipython",
    "version": 3
   },
   "file_extension": ".py",
   "mimetype": "text/x-python",
   "name": "python",
   "nbconvert_exporter": "python",
   "pygments_lexer": "ipython3",
   "version": "3.7.6"
  }
 },
 "nbformat": 4,
 "nbformat_minor": 4
}
