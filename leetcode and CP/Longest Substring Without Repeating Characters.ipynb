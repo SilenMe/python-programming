{
 "cells": [
  {
   "cell_type": "markdown",
   "metadata": {},
   "source": [
    "## 3. Longest Substring Without Repeating Characters\n",
    "\n",
    "Given a string s, find the length of the longest substring without repeating characters.\n",
    "Example 1:\n",
    "\n",
    "Input: s = \"abcabcbb\"\n",
    "Output: 3\n",
    "Explanation: The answer is \"abc\", with the length of 3.\n",
    "Example 2:\n",
    "\n",
    "Input: s = \"bbbbb\"\n",
    "Output: 1\n",
    "Explanation: The answer is \"b\", with the length of 1.\n",
    "Example 3:\n",
    "\n",
    "Input: s = \"pwwkew\"\n",
    "Output: 3\n",
    "Explanation: The answer is \"wke\", with the length of 3.\n",
    "Notice that the answer must be a substring, \"pwke\" is a subsequence and not a substring.\n",
    "Example 4:\n",
    "\n",
    "Input: s = \"\"\n",
    "Output: 0\n",
    " \n",
    "\n",
    "Constraints:\n",
    "\n",
    "0 <= s.length <= 5 * 104\n",
    "s consists of English letters, digits, symbols and spaces."
   ]
  },
  {
   "cell_type": "code",
   "execution_count": 6,
   "metadata": {},
   "outputs": [
    {
     "name": "stdout",
     "output_type": "stream",
     "text": [
      "abcabcbb\n",
      "3\n"
     ]
    }
   ],
   "source": [
    "s=input()\n",
    "left=right=0\n",
    "res=0\n",
    "char=[0]*128\n",
    "\n",
    "while right<len(s):\n",
    "  r=s[right]\n",
    "  char[ord(r)]+=1\n",
    "  while char[ord(r)]>1:\n",
    "    l=s[left]\n",
    "    char[ord(l)]-=1\n",
    "    left+=1\n",
    "  res=max(res,right-left+1)\n",
    "  right+=1\n",
    "print(res)"
   ]
  },
  {
   "cell_type": "markdown",
   "metadata": {},
   "source": [
    "code complexity is O(2n) because we might slide both 'left' and 'right' in saperate for loops\n",
    "\n",
    "## O(N) sol"
   ]
  },
  {
   "cell_type": "code",
   "execution_count": 22,
   "metadata": {},
   "outputs": [
    {
     "name": "stdout",
     "output_type": "stream",
     "text": [
      "abcabcbb\n",
      "3\n"
     ]
    }
   ],
   "source": [
    "s=input()\n",
    "left=right=0\n",
    "res=0\n",
    "mapi={}\n",
    "\n",
    "for right in range(len(s)):\n",
    "    if s[right] in mapi:\n",
    "        left=max(mapi[s[right]],left) #max is used in case of zero and same\n",
    "    \n",
    "    mapi[s[right]]=right+1\n",
    "    res=max(res,right-left+1)\n",
    "    \n",
    "print(res)"
   ]
  },
  {
   "cell_type": "code",
   "execution_count": null,
   "metadata": {},
   "outputs": [],
   "source": [
    "class Solution:\n",
    "    def lengthOfLongestSubstring(self, s: str) -> int:\n",
    "        left=0\n",
    "        res=0\n",
    "        mapi={}\n",
    "\n",
    "        for right in range(len(s)):\n",
    "            if s[right] in mapi:\n",
    "                left=max(mapi[s[right]],left) #max is used in case of zero and same\n",
    "    \n",
    "            mapi[s[right]]=right+1\n",
    "            res=max(res,right-left+1)\n",
    "            \n",
    "        return res\n",
    "\n",
    "        "
   ]
  }
 ],
 "metadata": {
  "kernelspec": {
   "display_name": "Python 3",
   "language": "python",
   "name": "python3"
  },
  "language_info": {
   "codemirror_mode": {
    "name": "ipython",
    "version": 3
   },
   "file_extension": ".py",
   "mimetype": "text/x-python",
   "name": "python",
   "nbconvert_exporter": "python",
   "pygments_lexer": "ipython3",
   "version": "3.7.6"
  }
 },
 "nbformat": 4,
 "nbformat_minor": 4
}
