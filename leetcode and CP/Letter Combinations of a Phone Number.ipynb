{
 "cells": [
  {
   "cell_type": "code",
   "execution_count": 12,
   "metadata": {},
   "outputs": [
    {
     "data": {
      "text/plain": [
       "['j', 'k', 'l']"
      ]
     },
     "execution_count": 12,
     "metadata": {},
     "output_type": "execute_result"
    }
   ],
   "source": [
    "#normal executable code\n",
    "def g(st):\n",
    "    \n",
    "    dic = {\"2\":[\"a\",\"b\",\"c\"], \"3\":[\"d\",\"e\",\"f\"], \"4\":[\"g\",\"h\",\"i\"], \"5\":[\"j\",\"k\",\"l\"], \"6\":[\"m\",\"n\",\"o\"], \"7\":[\"p\",\"q\",\"r\",\"s\"], \"8\":[\"t\",\"u\",\"v\"], \"9\":[\"w\",\"x\",\"y\",\"z\"]}\n",
    "    sol=[]\n",
    "    for i in range(len(st)):\n",
    "        sol.append(dic[st[i]])\n",
    "    \n",
    "    for i in range(len(sol)-1):\n",
    "        newsol=[]\n",
    "        for j in range(len(sol[i])):\n",
    "            for k in range(len(sol[i+1])):\n",
    "                newsol.append((sol[i][j]+sol[i+1][k]))\n",
    "        sol[i+1]=newsol\n",
    "    return sol[-1]    \n",
    "a=g('5')\n",
    "a"
   ]
  },
  {
   "cell_type": "code",
   "execution_count": null,
   "metadata": {},
   "outputs": [],
   "source": [
    "#leetcode\n",
    "class Solution:\n",
    "    def letterCombinations(self, digits: str) -> List[str]:\n",
    "        if digits=='':\n",
    "            return []\n",
    "        \n",
    "        dic = {\"2\":[\"a\",\"b\",\"c\"], \"3\":[\"d\",\"e\",\"f\"], \"4\":[\"g\",\"h\",\"i\"], \"5\":[\"j\",\"k\",\"l\"], \"6\":[\"m\",\"n\",\"o\"], \"7\":[\"p\",\"q\",\"r\",\"s\"], \"8\":[\"t\",\"u\",\"v\"], \"9\":[\"w\",\"x\",\"y\",\"z\"]}\n",
    "        sol=[]\n",
    "        for i in range(len(digits)):\n",
    "            sol.append(dic[digits[i]])\n",
    "    \n",
    "        for i in range(len(sol)-1):\n",
    "            newsol=[]\n",
    "            for j in range(len(sol[i])):\n",
    "                for k in range(len(sol[i+1])):\n",
    "                    newsol.append((sol[i][j]+sol[i+1][k]))\n",
    "            sol[i+1]=newsol\n",
    "        return sol[-1] \n",
    "        "
   ]
  }
 ],
 "metadata": {
  "kernelspec": {
   "display_name": "Python 3",
   "language": "python",
   "name": "python3"
  },
  "language_info": {
   "codemirror_mode": {
    "name": "ipython",
    "version": 3
   },
   "file_extension": ".py",
   "mimetype": "text/x-python",
   "name": "python",
   "nbconvert_exporter": "python",
   "pygments_lexer": "ipython3",
   "version": "3.7.6"
  }
 },
 "nbformat": 4,
 "nbformat_minor": 4
}
