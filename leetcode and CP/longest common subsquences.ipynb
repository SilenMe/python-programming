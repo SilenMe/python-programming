{
 "cells": [
  {
   "cell_type": "markdown",
   "metadata": {},
   "source": [
    "'ab' 'acb' == 'ab'\n",
    "\n",
    "'ba' 'acb' == ''\n"
   ]
  },
  {
   "cell_type": "code",
   "execution_count": 8,
   "metadata": {},
   "outputs": [
    {
     "data": {
      "text/plain": [
       "'defggf'"
      ]
     },
     "execution_count": 8,
     "metadata": {},
     "output_type": "execute_result"
    }
   ],
   "source": [
    "#my sol using recursion\n",
    "\n",
    "\n",
    "def ls(y,z,l=''):\n",
    "    if y=='':\n",
    "        return ''\n",
    "    if z=='':\n",
    "        return ''\n",
    "    for i in range(len(z)):\n",
    "        if z[i]==y[0]:\n",
    "            \n",
    "            l=l+ls(y[1:len(y)],z[i+1:len(z)])\n",
    "            return y[0]+l\n",
    "        \n",
    "            \n",
    "a=ls('defggf','defggf')\n",
    "a"
   ]
  },
  {
   "cell_type": "code",
   "execution_count": 5,
   "metadata": {},
   "outputs": [
    {
     "data": {
      "text/plain": [
       "2"
      ]
     },
     "execution_count": 5,
     "metadata": {},
     "output_type": "execute_result"
    }
   ],
   "source": [
    "# another recurtion method\n",
    "\n",
    "# this is printing the number\n",
    "def ls(x,y,i,j): #at starting i=j=0\n",
    "    if i==len(x) or j==len(y):\n",
    "        return 0\n",
    "    elif x[i]==y[j]:\n",
    "        return 1 + ls(x,y,i+1,j+1)\n",
    "    else:\n",
    "        return max(ls(x,y,i,j+1),ls(x,y,i+1,j))\n",
    "a=ls('eg','defg',0,0)\n",
    "a"
   ]
  },
  {
   "cell_type": "code",
   "execution_count": 9,
   "metadata": {},
   "outputs": [
    {
     "data": {
      "text/plain": [
       "3"
      ]
     },
     "execution_count": 9,
     "metadata": {},
     "output_type": "execute_result"
    }
   ],
   "source": [
    "# using memoization for recursion tree, like why we calculate the same function twice with same input\n",
    "\n",
    "# using array of size len(x) and len(y)\n",
    "\n",
    "#    y0 y1 y2 y3\n",
    "# x0  0  1  1  2\n",
    "# x1  1  0  1  0\n",
    "def ls(x,y,i,j,arr): #at starting i=j=0\n",
    "    arr=[[-1 for i in range(len(y))] for j in range(len(x))] # 2 row and 4 col\n",
    "    if i==len(x) or j==len(y):\n",
    "        return 0\n",
    "    if arr[i][j]!=-1: #if visited or calculated\n",
    "        return arr[i][j]\n",
    "    elif x[i]==y[j]:\n",
    "        arr[i][j]= 1 + ls(x,y,i+1,j+1,arr)\n",
    "        return arr[i][j]\n",
    "    else:\n",
    "        arr[i][j]= max(ls(x,y,i,j+1,arr),ls(x,y,i+1,j,arr))\n",
    "    return arr[i][j]\n",
    "a=ls('efg','defg',0,0,[])\n",
    "a"
   ]
  },
  {
   "cell_type": "code",
   "execution_count": 9,
   "metadata": {},
   "outputs": [
    {
     "data": {
      "text/plain": [
       "[[0, 0, 0, 0, 0], [0, 0, 0, 0, 0], [0, 0, 0, 0, 0], [0, 0, 0, 0, 0]]"
      ]
     },
     "execution_count": 9,
     "metadata": {},
     "output_type": "execute_result"
    }
   ],
   "source": [
    "x='abc'\n",
    "y='abcd'\n",
    "arr=[[0 for i in range(len(y)+1)] for j in range(len(x)+1)]\n",
    "arr"
   ]
  },
  {
   "cell_type": "code",
   "execution_count": 22,
   "metadata": {},
   "outputs": [
    {
     "name": "stdout",
     "output_type": "stream",
     "text": [
      "[[0, 0, 0, 0, 0, 0, 0, 0, 0, 1, 1], [0, 0, 0, 0, 0, 0, 1, 1, 1, 1, 1], [0, 0, 0, 0, 0, 0, 1, 2, 2, 2, 2], [3, 3, 3, 3, 3, 3, 3, 3, 3, 3, 3], [3, 3, 3, 3, 3, 3, 3, 3, 3, 3, 3], [3, 3, 3, 3, 3, 3, 3, 3, 3, 3, 3], [3, 3, 3, 3, 3, 3, 3, 3, 3, 3, 3]]\n"
     ]
    },
    {
     "data": {
      "text/plain": [
       "3"
      ]
     },
     "execution_count": 22,
     "metadata": {},
     "output_type": "execute_result"
    }
   ],
   "source": [
    "# using dp\n",
    "def s(x,y):\n",
    "    arr=[[0 for i in range(len(y))] for j in range(len(x))]\n",
    "    for i in range(len(x)):\n",
    "        for j in range(len(y)):\n",
    "            if(x[i]==y[j]):\n",
    "                arr[i][j]=arr[i-1][j-1]+1\n",
    "            else:\n",
    "                arr[i][j]=max(arr[i-1][j],arr[i][j-1])\n",
    "    print(arr)\n",
    "    return arr[i][j]\n",
    "\n",
    "a=s(\"pqrsvwf\",\"shmtulqrypy\")\n",
    "a"
   ]
  },
  {
   "cell_type": "code",
   "execution_count": 12,
   "metadata": {},
   "outputs": [
    {
     "data": {
      "text/plain": [
       "[[0, 0, 0, 0, 0], [0, 0, 0, 0, 0], [0, 0, 0, 0, 0], [0, 0, 0, 0, 0]]"
      ]
     },
     "execution_count": 12,
     "metadata": {},
     "output_type": "execute_result"
    }
   ],
   "source": [
    "arr"
   ]
  },
  {
   "cell_type": "code",
   "execution_count": null,
   "metadata": {},
   "outputs": [],
   "source": []
  }
 ],
 "metadata": {
  "kernelspec": {
   "display_name": "Python 3",
   "language": "python",
   "name": "python3"
  },
  "language_info": {
   "codemirror_mode": {
    "name": "ipython",
    "version": 3
   },
   "file_extension": ".py",
   "mimetype": "text/x-python",
   "name": "python",
   "nbconvert_exporter": "python",
   "pygments_lexer": "ipython3",
   "version": "3.7.6"
  }
 },
 "nbformat": 4,
 "nbformat_minor": 4
}
