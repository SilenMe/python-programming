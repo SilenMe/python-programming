{
 "cells": [
  {
   "cell_type": "markdown",
   "metadata": {},
   "source": [
    "You are a professional robber planning to rob houses along a street. Each house has a certain amount of money stashed. All houses at this place are arranged in a circle. That means the first house is the neighbor of the last one. Meanwhile, adjacent houses have a security system connected, and it will automatically contact the police if two adjacent houses were broken into on the same night.\n",
    "\n",
    "Given an integer array nums representing the amount of money of each house, return the maximum amount of money you can rob tonight without alerting the police.\n",
    "\n",
    " \n",
    "\n",
    "Example 1:\n",
    "\n",
    "Input: nums = [2,3,2]  \n",
    "Output: 3  \n",
    "Explanation: You cannot rob house 1 (money = 2) and then rob house 3 (money = 2), because they are adjacent houses.  \n",
    "Example 2:\n",
    "\n",
    "Input: nums = [1,2,3,1]  \n",
    "Output: 4  \n",
    "Explanation: Rob house 1 (money = 1) and then rob house 3 (money = 3).  \n",
    "Total amount you can rob = 1 + 3 = 4.  \n",
    "Example 3:\n",
    "\n",
    "Input: nums = [0]  \n",
    "Output: 0\n",
    " \n",
    "\n",
    "Constraints:\n",
    "\n",
    "1 <= nums.length <= 100  \n",
    "0 <= nums[i] <= 1000"
   ]
  },
  {
   "cell_type": "code",
   "execution_count": null,
   "metadata": {},
   "outputs": [],
   "source": [
    "class Solution:\n",
    "    def rob(self, nums: List[int]) -> int:\n",
    "        le=len(nums)\n",
    "        if le==0:\n",
    "            return 0\n",
    "        elif le==1:\n",
    "            return nums[0]\n",
    "        elif le==2:\n",
    "            return max(nums)\n",
    "        def hr(li):\n",
    "            arr=[0 for i in range(len(li))]\n",
    "            arr[0]=li[0]\n",
    "            arr[1]=max(li[1],li[0])\n",
    "            for i in range(2,len(li)):\n",
    "                if li[i]+arr[i-2]>arr[i-1]:\n",
    "                    arr[i]=li[i]+arr[i-2]\n",
    "                else:\n",
    "                    arr[i]=arr[i-1]\n",
    "            return arr[-1]\n",
    "        a=hr(nums[1:le])\n",
    "        b=hr(nums[0:le-1])\n",
    "        return max(a,b)\n",
    "        "
   ]
  }
 ],
 "metadata": {
  "kernelspec": {
   "display_name": "Python 3",
   "language": "python",
   "name": "python3"
  },
  "language_info": {
   "codemirror_mode": {
    "name": "ipython",
    "version": 3
   },
   "file_extension": ".py",
   "mimetype": "text/x-python",
   "name": "python",
   "nbconvert_exporter": "python",
   "pygments_lexer": "ipython3",
   "version": "3.7.6"
  }
 },
 "nbformat": 4,
 "nbformat_minor": 4
}
