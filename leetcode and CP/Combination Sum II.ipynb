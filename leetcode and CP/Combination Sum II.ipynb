{
 "cells": [
  {
   "cell_type": "markdown",
   "metadata": {},
   "source": [
    "Given a collection of candidate numbers (candidates) and a target number (target), find all unique combinations in candidates where the candidate numbers sum to target.\n",
    "\n",
    "Each number in candidates may only be used once in the combination.\n",
    "\n",
    "Note: The solution set must not contain duplicate combinations.\n",
    "\n",
    " \n",
    "\n",
    "Example 1:\n",
    "\n",
    "Input: candidates = [10,1,2,7,6,1,5], target = 8  \n",
    "Output:   \n",
    "[  \n",
    "[1,1,6],  \n",
    "[1,2,5],  \n",
    "[1,7],  \n",
    "[2,6]  \n",
    "]  \n",
    "Example 2:\n",
    "\n",
    "Input: candidates = [2,5,2,1,2], target = 5  \n",
    "Output: \n",
    "[\n",
    "[1,2,2],\n",
    "[5]\n",
    "]\n",
    " \n",
    "\n",
    "Constraints:\n",
    "\n",
    "1 <= candidates.length <= 100  \n",
    "1 <= candidates[i] <= 50  \n",
    "1 <= target <= 30  "
   ]
  },
  {
   "cell_type": "code",
   "execution_count": null,
   "metadata": {},
   "outputs": [],
   "source": [
    "class Solution:\n",
    "    def combinationSum2(self, candidates: List[int], target: int) -> List[List[int]]:\n",
    "        if sum(candidates)<target:\n",
    "            return []\n",
    "        solution=[]\n",
    "        \n",
    "        l=len(candidates)\n",
    "        candidates.sort()\n",
    "        ans=[]\n",
    "        def iterable(cur,pos,target): #return will be easy after using other fuction\n",
    "            if target==0:\n",
    "                ans.append(cur.copy())\n",
    "                return\n",
    "            for i in range(pos,l):\n",
    "                if candidates[i]>target:\n",
    "                    break #backtracking\n",
    "                cur.append(candidates[i])\n",
    "                iterable(cur,i+1,target-candidates[i])\n",
    "                cur.pop()\n",
    "        iterable([],0,target) # cur,pos,t\n",
    "        new=[]\n",
    "        for item in ans:\n",
    "            if item not in new:\n",
    "                new.append(item)\n",
    "        return new\n"
   ]
  }
 ],
 "metadata": {
  "kernelspec": {
   "display_name": "Python 3",
   "language": "python",
   "name": "python3"
  },
  "language_info": {
   "codemirror_mode": {
    "name": "ipython",
    "version": 3
   },
   "file_extension": ".py",
   "mimetype": "text/x-python",
   "name": "python",
   "nbconvert_exporter": "python",
   "pygments_lexer": "ipython3",
   "version": "3.7.6"
  }
 },
 "nbformat": 4,
 "nbformat_minor": 4
}
