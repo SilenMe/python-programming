{
 "cells": [
  {
   "cell_type": "markdown",
   "metadata": {},
   "source": [
    "Given an array of distinct integers nums and a target integer target, return the number of possible combinations that add up to target.\n",
    "\n",
    "The answer is guaranteed to fit in a 32-bit integer.\n",
    "\n",
    " \n",
    "\n",
    "Example 1:\n",
    "\n",
    "Input: nums = [1,2,3], target = 4  \n",
    "Output: 7  \n",
    "Explanation:  \n",
    "The possible combination ways are:  \n",
    "(1, 1, 1, 1)  \n",
    "(1, 1, 2)  \n",
    "(1, 2, 1)  \n",
    "(1, 3)  \n",
    "(2, 1, 1)  \n",
    "(2, 2)  \n",
    "(3, 1)  \n",
    "Note that different sequences are counted as different combinations.  \n",
    "Example 2:\n",
    "\n",
    "Input: nums = [9], target = 3  \n",
    "Output: 0\n",
    " \n",
    "\n",
    "Constraints:\n",
    "\n",
    "1 <= nums.length <= 200  \n",
    "1 <= nums[i] <= 1000  \n",
    "All the elements of nums are unique.  \n",
    "1 <= target <= 1000\n",
    " \n",
    "\n",
    "Follow up: What if negative numbers are allowed in the given array? How does it change the problem? What limitation we need to add to the question to allow negative numbers?"
   ]
  },
  {
   "cell_type": "markdown",
   "metadata": {},
   "source": [
    "## backtracking code\n",
    "## note that it can crash your pc for target>8 or target>16 so use DP for optimization"
   ]
  },
  {
   "cell_type": "code",
   "execution_count": null,
   "metadata": {},
   "outputs": [],
   "source": [
    "class Solution:\n",
    "    def combinationSum4(self, nums: List[int], target: int) -> int:\n",
    "        \n",
    "        \n",
    "        \n",
    "        solution=[]\n",
    "        \n",
    "        l=len(nums)\n",
    "        nums.sort()\n",
    "        ans=[]\n",
    "        def iterable(a,pos,target): #return will be easy after using other fuction\n",
    "            if target==0:\n",
    "            \n",
    "                ans.append(a)\n",
    "            \n",
    "                return\n",
    "            for i in range(pos,l):\n",
    "                if nums[i]>target:\n",
    "                    break #backtracking\n",
    "            \n",
    "                a=a+nums[i]\n",
    "            \n",
    "                iterable(a,0,target-nums[i])\n",
    "                a=a-nums[i]\n",
    "        \n",
    "        iterable(0,0,target) # cur,pos,t\n",
    "    \n",
    "        return len(ans)\n",
    "\n",
    "\n",
    "\n",
    "        "
   ]
  },
  {
   "cell_type": "code",
   "execution_count": 12,
   "metadata": {},
   "outputs": [
    {
     "data": {
      "text/plain": [
       "7"
      ]
     },
     "execution_count": 12,
     "metadata": {},
     "output_type": "execute_result"
    }
   ],
   "source": [
    "\n",
    "def combinationSum4( nums, target):\n",
    "        \n",
    "        \n",
    "        \n",
    "    solution=[]\n",
    "        \n",
    "    l=len(nums)\n",
    "    nums.sort()\n",
    "    ans=[]\n",
    "    def iterable(a,pos,target): #return will be easy after using other fuction\n",
    "        if target==0:\n",
    "            \n",
    "            ans.append(a)\n",
    "            \n",
    "            return\n",
    "        for i in range(pos,l):\n",
    "            if nums[i]>target:\n",
    "                break #backtracking\n",
    "            \n",
    "            a=a+nums[i]\n",
    "        \n",
    "            iterable(a,0,target-nums[i])\n",
    "            a=a-nums[i]\n",
    "        \n",
    "    iterable(0,0,target) # cur,pos,t\n",
    "    \n",
    "    return len(ans)\n",
    "\n",
    "a=combinationSum4([1,2,3],4) \n",
    "a"
   ]
  },
  {
   "cell_type": "markdown",
   "metadata": {},
   "source": [
    "# dp\n"
   ]
  },
  {
   "cell_type": "code",
   "execution_count": 34,
   "metadata": {},
   "outputs": [
    {
     "data": {
      "text/plain": [
       "0"
      ]
     },
     "execution_count": 34,
     "metadata": {},
     "output_type": "execute_result"
    }
   ],
   "source": [
    "def cc(coins, total):\n",
    "    change_n=[0 for i in range(total+1)]\n",
    "    change_n[0]=1\n",
    "    for total_temp in range(total+1):\n",
    "        for coin in coins:\n",
    "            if total_temp-coin>=0:\n",
    "                change_n[total_temp]+=change_n[total_temp-coin]\n",
    "    return change_n[total]\n",
    "a=cc([9],3)\n",
    "a"
   ]
  },
  {
   "cell_type": "code",
   "execution_count": null,
   "metadata": {},
   "outputs": [],
   "source": []
  }
 ],
 "metadata": {
  "kernelspec": {
   "display_name": "Python 3",
   "language": "python",
   "name": "python3"
  },
  "language_info": {
   "codemirror_mode": {
    "name": "ipython",
    "version": 3
   },
   "file_extension": ".py",
   "mimetype": "text/x-python",
   "name": "python",
   "nbconvert_exporter": "python",
   "pygments_lexer": "ipython3",
   "version": "3.7.6"
  }
 },
 "nbformat": 4,
 "nbformat_minor": 4
}
