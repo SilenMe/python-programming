{
 "cells": [
  {
   "cell_type": "markdown",
   "metadata": {},
   "source": [
    "Given an integer array nums, return the number of longest increasing subsequences.\n",
    "\n",
    "Notice that the sequence has to be strictly increasing.\n",
    "\n",
    " \n",
    "\n",
    "Example 1:\n",
    "\n",
    "Input: nums = [1,3,5,4,7]  \n",
    "Output: 2  \n",
    "Explanation: The two longest increasing subsequences are [1, 3, 4, 7] and [1, 3, 5, 7].  \n",
    "Example 2:  \n",
    "\n",
    "Input: nums = [2,2,2,2,2]  \n",
    "Output: 5  \n",
    "Explanation: The length of longest continuous increasing subsequence is 1, and there are 5 subsequences' length is 1, so output 5.\n",
    "\n",
    " \n",
    "\n",
    "Constraints:\n",
    "\n",
    "1 <= nums.length <= 2000  \n",
    "-106 <= nums[i] <= 106"
   ]
  },
  {
   "cell_type": "code",
   "execution_count": null,
   "metadata": {},
   "outputs": [],
   "source": [
    "class Solution:\n",
    "    def findNumberOfLIS(self, nums: List[int]) -> int:\n",
    "        arr=[1 for i in range(len(nums))]\n",
    "        freq=[1 for i in range(len(nums))]\n",
    "        for i in range(1,len(nums)):\n",
    "            for j in range(i):\n",
    "                if nums[i]>nums[j]:\n",
    "                    if arr[j]+1>arr[i]:\n",
    "                        arr[i]=arr[j]+1\n",
    "                        freq[i]=freq[j]\n",
    "                    elif arr[j]+1==arr[i]:\n",
    "                        freq[i]=freq[j]+freq[i] #increase the frequency with corresponding maxlen\n",
    "        longestSub=max(arr)\n",
    "        r=0\n",
    "        for i in range(len(freq)):\n",
    "            if arr[i]==longestSub:\n",
    "                r=r+freq[i] #in case of 2 fives which is max\n",
    "                \n",
    "        return r\n",
    "        "
   ]
  }
 ],
 "metadata": {
  "kernelspec": {
   "display_name": "Python 3",
   "language": "python",
   "name": "python3"
  },
  "language_info": {
   "codemirror_mode": {
    "name": "ipython",
    "version": 3
   },
   "file_extension": ".py",
   "mimetype": "text/x-python",
   "name": "python",
   "nbconvert_exporter": "python",
   "pygments_lexer": "ipython3",
   "version": "3.7.6"
  }
 },
 "nbformat": 4,
 "nbformat_minor": 4
}
