{
 "cells": [
  {
   "cell_type": "markdown",
   "metadata": {},
   "source": [
    "# hard one\n",
    "Given a positive integer n, return the number of the integers in the range [0, n] whose binary representations do not contain consecutive ones.\n",
    "\n",
    " \n",
    "\n",
    "Example 1:\n",
    "\n",
    "Input: n = 5  \n",
    "Output: 5  \n",
    "Explanation:  \n",
    "Here are the non-negative integers <= 5 with their corresponding binary representations:  \n",
    "0 : 0  \n",
    "1 : 1  \n",
    "2 : 10  \n",
    "3 : 11  \n",
    "4 : 100  \n",
    "5 : 101  \n",
    "Among them, only integer 3 disobeys the rule (two consecutive ones) and the other 5 satisfy the rule. \n",
    "Example 2:  \n",
    "\n",
    "Input: n = 1  \n",
    "Output: 2  \n",
    "Example 3:  \n",
    "\n",
    "Input: n = 2  \n",
    "Output: 3  \n",
    " \n",
    "\n",
    "Constraints:\n",
    "\n",
    "1 <= n <= 109\n",
    "\n"
   ]
  },
  {
   "cell_type": "code",
   "execution_count": null,
   "metadata": {},
   "outputs": [],
   "source": [
    "class Solution:\n",
    "    def findIntegers(self, n: int) -> int:\n",
    "        a=bin(n)[2:]\n",
    "        a=a[::-1]\n",
    "        \n",
    "        if a[0]=='0':\n",
    "            res=1\n",
    "        else:\n",
    "            res=2\n",
    "        \n",
    "        dp=[[1,1] for _ in range(len(a))] #dp[i][0] is the number of integers with (i+1)bits, highest bit is 0 and without consecutive ones AND dp[i][1] is the number of integers with (i+1)bits, highest bit is 1 and without consecutive ones\n",
    "        for i in range(1,len(a)):\n",
    "            dp[i][0]=dp[i-1][0]+dp[i-1][1]\n",
    "            dp[i][1]=dp[i-1][0]\n",
    "            if a[i-1:i+1]=='01':\n",
    "                res+=dp[i][0]\n",
    "            elif a[i-1:i+1]=='11':\n",
    "                res=dp[i][0]+dp[i][1]\n",
    "        return res\n",
    "                    \n",
    "            \n",
    "            \n",
    "\n",
    "        \n",
    "        "
   ]
  }
 ],
 "metadata": {
  "kernelspec": {
   "display_name": "Python 3",
   "language": "python",
   "name": "python3"
  },
  "language_info": {
   "codemirror_mode": {
    "name": "ipython",
    "version": 3
   },
   "file_extension": ".py",
   "mimetype": "text/x-python",
   "name": "python",
   "nbconvert_exporter": "python",
   "pygments_lexer": "ipython3",
   "version": "3.7.6"
  }
 },
 "nbformat": 4,
 "nbformat_minor": 4
}
