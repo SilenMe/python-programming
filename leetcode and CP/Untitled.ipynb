{
 "cells": [
  {
   "cell_type": "markdown",
   "metadata": {},
   "source": [
    "PAYPALISHIRING\n",
    "\n",
    "P   A   H   N  \n",
    "A P L S I I G  \n",
    "Y   I   R\n",
    "PAHNAPLSIIGYIR \n",
    "[['P', 'A', 'H', 'N'], ['A', 'P', 'L', 'S', 'I', 'I', 'G'], ['Y', 'I', 'R']]\n",
    "\n",
    "\"PAYPALISHIRING\",\n",
    "PINALSIGYAHRPI numRows = 4\n",
    "Output: \"PINALSIGYAHRPI\"\n",
    "[['P', 'I', 'N'], ['A', 'L', 'S', 'I', 'G'], ['Y', 'A', 'H', 'R'], ['P', 'I']]"
   ]
  },
  {
   "cell_type": "code",
   "execution_count": 2,
   "metadata": {},
   "outputs": [
    {
     "ename": "TypeError",
     "evalue": "'str' object cannot be interpreted as an integer",
     "output_type": "error",
     "traceback": [
      "\u001b[1;31m---------------------------------------------------------------------------\u001b[0m",
      "\u001b[1;31mTypeError\u001b[0m                                 Traceback (most recent call last)",
      "\u001b[1;32m<ipython-input-2-3a2f724fde76>\u001b[0m in \u001b[0;36m<module>\u001b[1;34m\u001b[0m\n\u001b[0;32m     19\u001b[0m \u001b[1;33m\u001b[0m\u001b[0m\n\u001b[0;32m     20\u001b[0m \u001b[1;33m\u001b[0m\u001b[0m\n\u001b[1;32m---> 21\u001b[1;33m \u001b[0ma\u001b[0m\u001b[1;33m=\u001b[0m\u001b[0mr\u001b[0m\u001b[1;33m(\u001b[0m\u001b[1;34m'abcd'\u001b[0m\u001b[1;33m,\u001b[0m\u001b[1;36m2\u001b[0m\u001b[1;33m)\u001b[0m\u001b[1;33m\u001b[0m\u001b[1;33m\u001b[0m\u001b[0m\n\u001b[0m\u001b[0;32m     22\u001b[0m \u001b[0ma\u001b[0m\u001b[1;33m\u001b[0m\u001b[1;33m\u001b[0m\u001b[0m\n",
      "\u001b[1;32m<ipython-input-2-3a2f724fde76>\u001b[0m in \u001b[0;36mr\u001b[1;34m(s, n)\u001b[0m\n\u001b[0;32m      3\u001b[0m     \u001b[0mbuc\u001b[0m\u001b[1;33m=\u001b[0m\u001b[1;33m-\u001b[0m\u001b[1;36m1\u001b[0m\u001b[1;33m\u001b[0m\u001b[1;33m\u001b[0m\u001b[0m\n\u001b[0;32m      4\u001b[0m     \u001b[0md\u001b[0m\u001b[1;33m=\u001b[0m\u001b[1;36m0\u001b[0m\u001b[1;31m# direction is zero for down 1 for up\u001b[0m\u001b[1;33m\u001b[0m\u001b[1;33m\u001b[0m\u001b[0m\n\u001b[1;32m----> 5\u001b[1;33m     \u001b[1;32mfor\u001b[0m \u001b[0mi\u001b[0m \u001b[1;32min\u001b[0m \u001b[0mrange\u001b[0m\u001b[1;33m(\u001b[0m\u001b[0ms\u001b[0m\u001b[1;33m)\u001b[0m\u001b[1;33m:\u001b[0m\u001b[1;33m\u001b[0m\u001b[1;33m\u001b[0m\u001b[0m\n\u001b[0m\u001b[0;32m      6\u001b[0m \u001b[1;33m\u001b[0m\u001b[0m\n\u001b[0;32m      7\u001b[0m         \u001b[1;32mif\u001b[0m \u001b[0md\u001b[0m\u001b[1;33m==\u001b[0m\u001b[1;36m0\u001b[0m\u001b[1;33m:\u001b[0m\u001b[1;33m\u001b[0m\u001b[1;33m\u001b[0m\u001b[0m\n",
      "\u001b[1;31mTypeError\u001b[0m: 'str' object cannot be interpreted as an integer"
     ]
    }
   ],
   "source": [
    "def r(s,n):\n",
    "    arr=[[] for _ in range(n)]\n",
    "    buc=-1\n",
    "    d=0# direction is zero for down 1 for up\n",
    "    for i in range(s):\n",
    "        \n",
    "        if d==0:\n",
    "            buc+=1\n",
    "            if buc==n-1:\n",
    "                d=1\n",
    "        else:\n",
    "            buc-=1\n",
    "            if buc==0:\n",
    "                d=1\n",
    "        arr[buc].append(s[i])\n",
    "    return arr\n",
    "\n",
    "        \n",
    "            \n",
    "            \n",
    "a=r('abcd',2)\n",
    "a"
   ]
  },
  {
   "cell_type": "code",
   "execution_count": null,
   "metadata": {},
   "outputs": [],
   "source": [
    "k=[]\n",
    "s=''\n",
    "for item in a:\n",
    "    while len(item)<len(a[0]):\n",
    "        item+='R'\n",
    "    k.append(item)\n",
    "print(k)\n",
    "n=''\n",
    "l,r=0,len(k[0])-1\n",
    "while l<=r:\n",
    "    for item in k:\n",
    "        if l<r:\n",
    "            s=s+item[l]+item[r]\n",
    "            l=l+1\n",
    "            r=r-1\n",
    "        else:\n",
    "            s=s+item[r]\n",
    "            l=l+1\n",
    "    n=n+s\n",
    "n"
   ]
  },
  {
   "cell_type": "code",
   "execution_count": null,
   "metadata": {},
   "outputs": [],
   "source": [
    "x=1\n",
    "while True:\n",
    "    if x%6==0:\n",
    "        break\n",
    "    print(x)\n",
    "    x=x+1"
   ]
  },
  {
   "cell_type": "code",
   "execution_count": null,
   "metadata": {},
   "outputs": [],
   "source": [
    "l=[1]\n",
    "l*3"
   ]
  },
  {
   "cell_type": "code",
   "execution_count": null,
   "metadata": {},
   "outputs": [],
   "source": [
    "x=98\n",
    "y=11\n",
    "z=x%y\n",
    "x=z+y\n",
    "y=x%z\n",
    "y"
   ]
  },
  {
   "cell_type": "code",
   "execution_count": null,
   "metadata": {},
   "outputs": [],
   "source": [
    "a=[1,2,3,4,5]\n",
    "\n",
    "\n",
    "a[2:-1]"
   ]
  },
  {
   "cell_type": "code",
   "execution_count": null,
   "metadata": {},
   "outputs": [],
   "source": [
    "s='abcd'\n",
    "r=s.__getitem__(3)\n",
    "r"
   ]
  },
  {
   "cell_type": "code",
   "execution_count": null,
   "metadata": {},
   "outputs": [],
   "source": [
    "i1=6\n",
    "def f1():\n",
    "    global i1\n",
    "i2=i1*9\n",
    "print(i2)\n",
    "i1=2\n",
    "f1()"
   ]
  },
  {
   "cell_type": "code",
   "execution_count": null,
   "metadata": {},
   "outputs": [],
   "source": [
    "bool(-3)+bool(6.533)+bool(0.3)-  bool(0) "
   ]
  },
  {
   "cell_type": "code",
   "execution_count": null,
   "metadata": {},
   "outputs": [],
   "source": [
    "print('\\t'.isspace())"
   ]
  },
  {
   "cell_type": "code",
   "execution_count": null,
   "metadata": {},
   "outputs": [],
   "source": [
    "n=[9,2,11,35,6]\n",
    "res=list(filter(lambda n:n<9,n))\n",
    "res"
   ]
  },
  {
   "cell_type": "code",
   "execution_count": 11,
   "metadata": {},
   "outputs": [
    {
     "data": {
      "text/plain": [
       "'abc'"
      ]
     },
     "execution_count": 11,
     "metadata": {},
     "output_type": "execute_result"
    }
   ],
   "source": [
    "def r(s,n):\n",
    "    if n==1:\n",
    "        return s\n",
    "    arr=[[] for _ in range(n)]\n",
    "    buc=-1\n",
    "    d=0# direction is zero for down 1 for up\n",
    "    for i in range(len(s)):\n",
    "        \n",
    "        if d==0:\n",
    "            buc+=1\n",
    "            if buc==n-1:\n",
    "                d=1\n",
    "        else:\n",
    "            buc-=1\n",
    "            if buc==0:\n",
    "                d=0\n",
    "        arr[buc].append(s[i])\n",
    "    r=''\n",
    "    \n",
    "    for i in range(len(arr)):\n",
    "        for item in arr[i]:\n",
    "            r=r+item\n",
    "    return r\n",
    "\n",
    "        \n",
    "            \n",
    "            \n",
    "a=r('abc',1)\n",
    "a"
   ]
  },
  {
   "cell_type": "code",
   "execution_count": null,
   "metadata": {},
   "outputs": [],
   "source": []
  }
 ],
 "metadata": {
  "kernelspec": {
   "display_name": "Python 3",
   "language": "python",
   "name": "python3"
  },
  "language_info": {
   "codemirror_mode": {
    "name": "ipython",
    "version": 3
   },
   "file_extension": ".py",
   "mimetype": "text/x-python",
   "name": "python",
   "nbconvert_exporter": "python",
   "pygments_lexer": "ipython3",
   "version": "3.7.6"
  }
 },
 "nbformat": 4,
 "nbformat_minor": 4
}
