{
 "cells": [
  {
   "cell_type": "markdown",
   "metadata": {},
   "source": [
    "Given an array of distinct integers candidates and a target integer target, return a list of all unique combinations of candidates where the chosen numbers sum to target. You may return the combinations in any order.\n",
    "\n",
    "The same number may be chosen from candidates an unlimited number of times. Two combinations are unique if the frequency of at least one of the chosen numbers is different.\n",
    "\n",
    "It is guaranteed that the number of unique combinations that sum up to target is less than 150 combinations for the given input.\n",
    "\n",
    " \n",
    "\n",
    "Example 1:\n",
    "\n",
    "Input: candidates = [2,3,6,7], target = 7  \n",
    "Output: [[2,2,3],[7]]  \n",
    "Explanation:  \n",
    "2 and 3 are candidates, and 2 + 2 + 3 = 7. Note that 2 can be used multiple times.   \n",
    "7 is a candidate, and 7 = 7.  \n",
    "These are the only two combinations.  \n",
    "Example 2:\n",
    "\n",
    "Input: candidates = [2,3,5], target = 8  \n",
    "Output: [[2,2,2,2],[2,3,3],[3,5]]  \n",
    "Example 3:\n",
    "\n",
    "Input: candidates = [2], target = 1  \n",
    "Output: []  \n",
    "Example 4:  \n",
    "\n",
    "Input: candidates = [1], target = 1  \n",
    "Output: [[1]]  \n",
    "Example 5:\n",
    "\n",
    "Input: candidates = [1], target = 2  \n",
    "Output: [[1,1]]  \n",
    " \n",
    "\n",
    "Constraints:\n",
    "\n",
    "1 <= candidates.length <= 30  \n",
    "1 <= candidates[i] <= 200  \n",
    "All elements of candidates are distinct.  \n",
    "1 <= target <= 500"
   ]
  },
  {
   "cell_type": "code",
   "execution_count": 4,
   "metadata": {},
   "outputs": [
    {
     "data": {
      "text/plain": [
       "[[1, 1, 1], [1, 2], [3]]"
      ]
     },
     "execution_count": 4,
     "metadata": {},
     "output_type": "execute_result"
    }
   ],
   "source": [
    "def bt(li,t):\n",
    "    l=len(li)\n",
    "    li.sort()\n",
    "    ans=[]\n",
    "    def iterable(cur,pos,t): #return will be easy after using other fuction\n",
    "        if t==0:\n",
    "            ans.append(cur.copy())\n",
    "            return\n",
    "        for i in range(pos,l):\n",
    "            if li[i]>t:\n",
    "                break #backtracking\n",
    "            cur.append(li[i])\n",
    "            iterable(cur,i,t-li[i])\n",
    "            cur.pop()\n",
    "    iterable([],0,t) # cur,pos,t\n",
    "    return ans\n",
    "a=bt([1,2,3],3)\n",
    "a\n"
   ]
  },
  {
   "cell_type": "code",
   "execution_count": null,
   "metadata": {},
   "outputs": [],
   "source": []
  }
 ],
 "metadata": {
  "kernelspec": {
   "display_name": "Python 3",
   "language": "python",
   "name": "python3"
  },
  "language_info": {
   "codemirror_mode": {
    "name": "ipython",
    "version": 3
   },
   "file_extension": ".py",
   "mimetype": "text/x-python",
   "name": "python",
   "nbconvert_exporter": "python",
   "pygments_lexer": "ipython3",
   "version": "3.7.6"
  }
 },
 "nbformat": 4,
 "nbformat_minor": 4
}
