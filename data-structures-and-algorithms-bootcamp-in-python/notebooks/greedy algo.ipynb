{
 "cells": [
  {
   "cell_type": "markdown",
   "metadata": {},
   "source": [
    "# greedy algo\n",
    "\n",
    "consider all notes are throughn on road, one will collect the rupee 2000 note then 500....\n",
    "\n",
    "1. insetion sort\n",
    "2. selection sort\n",
    "3. topological sort\n",
    "4. prims and kruskal\n",
    "\n",
    "5. activity selection problem\n",
    "6. coin change problem\n",
    "6. fractional knapsack problem\n",
    "\n",
    "# activity selection problem\n",
    "\n",
    "activity : start time : end time"
   ]
  },
  {
   "cell_type": "code",
   "execution_count": 1,
   "metadata": {},
   "outputs": [
    {
     "name": "stdout",
     "output_type": "stream",
     "text": [
      "A3\n",
      "A2\n",
      "A5\n",
      "A6\n"
     ]
    }
   ],
   "source": [
    "#   Created by Elshad Karimov \n",
    "#   Copyright © AppMillers. All rights reserved.\n",
    "\n",
    "# Activity Selection Problem  in Python\n",
    "\n",
    "activities = [[\"A1\", 0, 6],\n",
    "              [\"A2\", 3, 4],\n",
    "              [\"A3\", 1, 2],\n",
    "              [\"A4\", 5, 8],\n",
    "              [\"A5\", 5, 7],\n",
    "              [\"A6\", 8, 9]\n",
    "                ]\n",
    "\n",
    "\n",
    "def printMaxActivities(activities):\n",
    "    activities.sort(key=lambda x: x[2])\n",
    "    i = 0\n",
    "    firstA = activities[i][0]\n",
    "    print(firstA)\n",
    "    for j in range(len(activities)):\n",
    "        if activities[j][1] > activities[i][2]:\n",
    "            print(activities[j][0])\n",
    "            i = j\n",
    "\n",
    "printMaxActivities(activities)\n",
    "\n",
    "\n"
   ]
  },
  {
   "cell_type": "markdown",
   "metadata": {},
   "source": [
    "# coin change problem\n",
    "\n",
    "minimun no of coins for paying a fixed prise eg for 500(1 note of 500), 400(2 notes of 200)...."
   ]
  },
  {
   "cell_type": "code",
   "execution_count": 2,
   "metadata": {},
   "outputs": [
    {
     "name": "stdout",
     "output_type": "stream",
     "text": [
      "100\n",
      "100\n",
      "1\n"
     ]
    }
   ],
   "source": [
    "def coinChange(totalNumber, coins):\n",
    "    N = totalNumber\n",
    "    coins.sort()\n",
    "    index = len(coins)-1\n",
    "    while True:\n",
    "        coinValue = coins[index]\n",
    "        if N >= coinValue:\n",
    "            print(coinValue)\n",
    "            N = N - coinValue\n",
    "        if N < coinValue:\n",
    "            index -= 1\n",
    "        \n",
    "        if N == 0:\n",
    "            break\n",
    "\n",
    "coins = [1,2,5,20,50,100]\n",
    "coinChange(201, coins)\n"
   ]
  },
  {
   "cell_type": "markdown",
   "metadata": {},
   "source": [
    "# fractional knapsack: resource allocation problem\n",
    "bag contains max value of items(density greed)"
   ]
  },
  {
   "cell_type": "code",
   "execution_count": 3,
   "metadata": {},
   "outputs": [
    {
     "name": "stdout",
     "output_type": "stream",
     "text": [
      "Total value obtained: 240.0\n"
     ]
    }
   ],
   "source": [
    "class Item:\n",
    "    def __init__(self, weight, value):\n",
    "        self.weight = weight\n",
    "        self.value = value\n",
    "        self.ratio = value / weight\n",
    "\n",
    "def knapsackMethod(items, capacity):\n",
    "    items.sort(key=lambda x: x.ratio, reverse = True) #sorting wit help of lambda function\n",
    "    usedCapacity = 0\n",
    "    totalValue = 0\n",
    "    for i in items:\n",
    "        if usedCapacity + i.weight <= capacity:\n",
    "            usedCapacity += i.weight\n",
    "            totalValue += i.value\n",
    "        else:\n",
    "            unusedWeight = capacity - usedCapacity\n",
    "            value = i.ratio * unusedWeight\n",
    "            usedCapacity += unusedWeight\n",
    "            totalValue += value\n",
    "        \n",
    "        if usedCapacity == capacity:\n",
    "            break\n",
    "    print(\"Total value obtained: \"+str(totalValue))\n",
    "\n",
    "item1 = Item(20,100)\n",
    "item2 = Item(30,120)\n",
    "item3 = Item(10,60)\n",
    "cList = [item1, item2, item3]\n",
    "\n",
    "knapsackMethod(cList, 50)"
   ]
  },
  {
   "cell_type": "markdown",
   "metadata": {},
   "source": [
    "# devide and conquer\n",
    "recursively breaking the problem in smaller subproblem unless solved simply\n",
    "eg: devlopment of website\n",
    "\n",
    "1. merge sort\n",
    "2. quick sort\n",
    "\n",
    "# number factor problem"
   ]
  },
  {
   "cell_type": "code",
   "execution_count": 5,
   "metadata": {},
   "outputs": [
    {
     "name": "stdout",
     "output_type": "stream",
     "text": [
      "9\n"
     ]
    }
   ],
   "source": [
    "def numberFactor(n):\n",
    "    if n in (0,1,2):\n",
    "        return 1\n",
    "    elif n == 3:\n",
    "        return 2\n",
    "    else:\n",
    "        subP1 = numberFactor(n-1)\n",
    "        subP2 = numberFactor(n-3)\n",
    "        subP3 = numberFactor(n-4)\n",
    "        return subP1+subP2+subP3\n",
    "\n",
    "print(numberFactor(6))"
   ]
  },
  {
   "cell_type": "markdown",
   "metadata": {},
   "source": [
    "# House Robber Problem  in Python\n",
    "\n"
   ]
  },
  {
   "cell_type": "code",
   "execution_count": 6,
   "metadata": {},
   "outputs": [
    {
     "name": "stdout",
     "output_type": "stream",
     "text": [
      "41\n"
     ]
    }
   ],
   "source": [
    "def houseRobber(houses, currentIndex):\n",
    "    if currentIndex >= len(houses):\n",
    "        return 0\n",
    "    else:\n",
    "        stealFirstHouse = houses[currentIndex] + houseRobber(houses, currentIndex + 2)\n",
    "        skipFirstHouse = houseRobber(houses, currentIndex+1)\n",
    "        return max(stealFirstHouse, skipFirstHouse)\n",
    "\n",
    "houses = [6,7,1,30,8,2,4]\n",
    "print(houseRobber(houses, 0))"
   ]
  },
  {
   "cell_type": "markdown",
   "metadata": {},
   "source": [
    "\n",
    "# Convert One String to Another with minimum operation in Python\n",
    "\n"
   ]
  },
  {
   "cell_type": "code",
   "execution_count": 7,
   "metadata": {},
   "outputs": [
    {
     "name": "stdout",
     "output_type": "stream",
     "text": [
      "4\n"
     ]
    }
   ],
   "source": [
    "def findMinOperation(s1, s2, index1, index2):\n",
    "    if index1 == len(s1):\n",
    "        return len(s2)-index2\n",
    "    if index2 == len(s2):\n",
    "        return len(s1)-index1\n",
    "    if s1[index1] == s2[index2]:\n",
    "        return findMinOperation(s1, s2, index1+1, index2+1)\n",
    "    else:\n",
    "        deleteOp = 1 + findMinOperation(s1, s2, index1, index2+1)\n",
    "        insertOp = 1 + findMinOperation(s1, s2, index1+1, index2)\n",
    "        replaceOp = 1 + findMinOperation(s1, s2, index1+1, index2+1)\n",
    "        return min (deleteOp, insertOp, replaceOp)\n",
    "\n",
    "print(findMinOperation(\"table\", \"tbrltt\", 0, 0))"
   ]
  },
  {
   "cell_type": "markdown",
   "metadata": {},
   "source": [
    "# Zero One Knapsack in Python: cant break the problem\n",
    "take first item or left: iteration\n"
   ]
  },
  {
   "cell_type": "code",
   "execution_count": 8,
   "metadata": {},
   "outputs": [
    {
     "name": "stdout",
     "output_type": "stream",
     "text": [
      "98\n"
     ]
    }
   ],
   "source": [
    "class Item:\n",
    "    def __init__(self, profit, weight):\n",
    "        self.profit = profit\n",
    "        self.weight = weight\n",
    "\n",
    "def zoKnapsack(items, capacity, currentIndex):\n",
    "    if capacity <=0 or currentIndex < 0 or currentIndex >= len(items):\n",
    "        return 0\n",
    "    elif items[currentIndex].weight <= capacity:\n",
    "        profit1 = items[currentIndex].profit + zoKnapsack(items, capacity-items[currentIndex].weight, currentIndex+1)\n",
    "        profit2 = zoKnapsack(items, capacity, currentIndex+1)\n",
    "        return max(profit1, profit2)\n",
    "    else:\n",
    "        return 0\n",
    "\n",
    "mango = Item(31, 3)\n",
    "apple = Item(26, 1)\n",
    "orange = Item(17, 2)\n",
    "banana = Item(72, 5)\n",
    "\n",
    "items = [mango, apple, orange, banana]\n",
    "\n",
    "print(zoKnapsack(items, 7, 0))"
   ]
  },
  {
   "cell_type": "markdown",
   "metadata": {},
   "source": [
    "# Longest Common Subsequence in Python\n",
    "\n"
   ]
  },
  {
   "cell_type": "code",
   "execution_count": 9,
   "metadata": {},
   "outputs": [
    {
     "name": "stdout",
     "output_type": "stream",
     "text": [
      "5\n"
     ]
    }
   ],
   "source": [
    "def findLCS(s1, s2, index1, index2):\n",
    "    if index1 == len(s1) or index2 == len(s2):\n",
    "        return 0\n",
    "    if s1[index1] == s2[index2]:\n",
    "        return 1 + findLCS(s1, s2, index1+1, index2+1)\n",
    "    else:\n",
    "        op1 = findLCS(s1,s2, index1, index2+1)\n",
    "        op2 = findLCS(s1,s2, index1+1, index2)\n",
    "        return max(op1, op2)\n",
    "\n",
    "print(findLCS(\"elephant\", \"eretpat\", 0, 0))"
   ]
  },
  {
   "cell_type": "markdown",
   "metadata": {},
   "source": [
    "# Longest Polindromic Subsequence in Python\n"
   ]
  },
  {
   "cell_type": "code",
   "execution_count": 10,
   "metadata": {},
   "outputs": [
    {
     "name": "stdout",
     "output_type": "stream",
     "text": [
      "5\n"
     ]
    }
   ],
   "source": [
    "\n",
    "def findLPS(s, startIndex, endIndex):\n",
    "    if startIndex > endIndex:\n",
    "        return 0\n",
    "    elif startIndex == endIndex:\n",
    "        return 1\n",
    "    elif s[startIndex] == s[endIndex]:\n",
    "        return 2 + findLPS(s, startIndex+1, endIndex-1)\n",
    "    else:\n",
    "        op1 = findLPS(s, startIndex, endIndex-1)\n",
    "        op2 = findLPS(s, startIndex+1, endIndex)\n",
    "        return max(op1, op2)\n",
    "\n",
    "print(findLPS(\"ELRMENMET\", 0, 8))"
   ]
  },
  {
   "cell_type": "code",
   "execution_count": 12,
   "metadata": {},
   "outputs": [
    {
     "name": "stdout",
     "output_type": "stream",
     "text": [
      "3\n"
     ]
    }
   ],
   "source": [
    "print(findLPS(\"corona\", 0, 5))"
   ]
  },
  {
   "cell_type": "markdown",
   "metadata": {},
   "source": [
    "# Minimum Cost in 2D array\n"
   ]
  },
  {
   "cell_type": "code",
   "execution_count": 14,
   "metadata": {},
   "outputs": [
    {
     "name": "stdout",
     "output_type": "stream",
     "text": [
      "36\n"
     ]
    }
   ],
   "source": [
    "\n",
    "def findMinCost(twoDArray, row, col):\n",
    "    if row == -1 or col == -1:\n",
    "        return float('inf')\n",
    "    elif row == 0 and col == 0:\n",
    "        return twoDArray[0][0]\n",
    "    else:\n",
    "        op1 = findMinCost(twoDArray, row-1, col)\n",
    "        op2 = findMinCost(twoDArray, row, col-1)\n",
    "        return twoDArray[row][col] + min(op1,op2)\n",
    "\n",
    "TwoDList = [[4,7,8,6,4],\n",
    "           [6,7,3,9,2],\n",
    "           [3,8,1,2,4],\n",
    "           [7,1,7,3,7],\n",
    "           [2,9,8,9,3]\n",
    "           ]\n",
    "\n",
    "print(findMinCost(TwoDList, 4,4))"
   ]
  },
  {
   "cell_type": "markdown",
   "metadata": {},
   "source": [
    "\n",
    "# Number of paths to reach the last cell with given cost in 2D array\n",
    "\n"
   ]
  },
  {
   "cell_type": "code",
   "execution_count": 15,
   "metadata": {},
   "outputs": [
    {
     "name": "stdout",
     "output_type": "stream",
     "text": [
      "2\n"
     ]
    }
   ],
   "source": [
    "def numberOfPaths(twoDArray, row, col, cost):\n",
    "    if cost < 0:\n",
    "        return 0\n",
    "    elif row == 0 and col == 0:\n",
    "        if twoDArray[0][0] - cost == 0:\n",
    "            return 1\n",
    "        else:\n",
    "            return 0\n",
    "    elif row == 0:\n",
    "        return numberOfPaths(twoDArray, 0, col-1, cost - twoDArray[row][col] )\n",
    "    elif col == 0:\n",
    "        return numberOfPaths(twoDArray, row-1, 0, cost - twoDArray[row][col] )\n",
    "    else:\n",
    "        op1 = numberOfPaths(twoDArray, row -1, col, cost - twoDArray[row][col] )\n",
    "        op2 = numberOfPaths(twoDArray, row, col-1, cost - twoDArray[row][col] )\n",
    "        return op1 + op2\n",
    "\n",
    "\n",
    "TwoDList = [[4,7,1,6],\n",
    "           [5,7,3,9],\n",
    "           [3,2,1,2],\n",
    "           [7,1,6,3]\n",
    "           ]\n",
    "\n",
    "print(numberOfPaths(TwoDList, 3,3, 25))"
   ]
  },
  {
   "cell_type": "markdown",
   "metadata": {},
   "source": [
    "# dyanmic programming\n",
    "\n",
    "addition is also an example of dp: 1+1+1+1+1= 2+1+1+1= 3+1+1= 4+1 =5\n",
    "\n",
    "simlply using the answer of previously solved problem\n",
    "\n",
    "### it is optimization of devide is conquer algo\n",
    "go to wikipedia page of DP for more real world problem\n",
    "\n",
    "\n",
    "#### top down with memoization\n",
    "breaking big problems in smaller parts\n",
    "\n",
    "\n",
    "# fibonacci with DP"
   ]
  },
  {
   "cell_type": "code",
   "execution_count": 19,
   "metadata": {},
   "outputs": [
    {
     "name": "stdout",
     "output_type": "stream",
     "text": [
      "34\n"
     ]
    }
   ],
   "source": [
    "def fibMemo(n,memo):\n",
    "    if n==1:\n",
    "        return 0\n",
    "    if n==2:\n",
    "        return 1\n",
    "    \n",
    "    if not n in memo:\n",
    "        memo[n]=fibMeno(n-1,memo)+fibMeno(n-2,memo)\n",
    "    return memo[n]\n",
    "d={}\n",
    "print(fibMemo(10,d))"
   ]
  },
  {
   "cell_type": "markdown",
   "metadata": {},
   "source": [
    "## bottom up with tabulation\n",
    "# fibonacci with tabulation"
   ]
  },
  {
   "cell_type": "code",
   "execution_count": 22,
   "metadata": {},
   "outputs": [
    {
     "data": {
      "text/plain": [
       "34"
      ]
     },
     "execution_count": 22,
     "metadata": {},
     "output_type": "execute_result"
    }
   ],
   "source": [
    "def fibtab(n):\n",
    "    tb=[0,1]\n",
    "    for i in range (2,n+1):\n",
    "        tb.append(tb[i-2]+tb[i-1])\n",
    "    return tb[n-1]\n",
    "fibtab(10)"
   ]
  },
  {
   "cell_type": "markdown",
   "metadata": {},
   "source": [
    "## top down vs bottum up\n",
    "in one line: bottum up is better but have tough logic bz bottum up is just like recurtion with memory(extra stack is used)\n",
    "\n",
    "\n",
    "#### is merge sort is DP\n",
    "DP have 2 property: optimal substructure(merge sort have it) : overlapping subproblem sol (merge dont have it bz it not uses result of any previous computation to solve the upcoming problem) so merge is a devide and conquer algo\n",
    "\n",
    "so some of devide and conquer can be solved by DP but not all\n",
    "\n",
    "# number factor with DP"
   ]
  },
  {
   "cell_type": "code",
   "execution_count": 23,
   "metadata": {},
   "outputs": [
    {
     "data": {
      "text/plain": [
       "6"
      ]
     },
     "execution_count": 23,
     "metadata": {},
     "output_type": "execute_result"
    }
   ],
   "source": [
    "# top down\n",
    "def nf(n,dicti):\n",
    "    if n in (0,1,2):\n",
    "        return 1\n",
    "    elif n==3:\n",
    "        return 2\n",
    "    else:\n",
    "        if n not in dicti:\n",
    "            p1=nf(n-1,dicti)\n",
    "            p2=nf(n-3,dicti)\n",
    "            p3=nf(n-4,dicti)\n",
    "            dicti[n]=p1+p2+p3\n",
    "            return dicti[n]\n",
    "nf(5,{})"
   ]
  },
  {
   "cell_type": "code",
   "execution_count": 25,
   "metadata": {},
   "outputs": [
    {
     "data": {
      "text/plain": [
       "6"
      ]
     },
     "execution_count": 25,
     "metadata": {},
     "output_type": "execute_result"
    }
   ],
   "source": [
    "#bottom up\n",
    "def nf(n):\n",
    "    arr=[1,1,1,2] #for 0,1,2 its 1 and for 3 its 2\n",
    "    for i in range(4,n+1):\n",
    "        arr.append(arr[i-1]+arr[i-3]+arr[i-4])\n",
    "    return arr[n]\n",
    "nf(5)"
   ]
  },
  {
   "cell_type": "markdown",
   "metadata": {},
   "source": [
    "# house robber with DP"
   ]
  },
  {
   "cell_type": "code",
   "execution_count": 28,
   "metadata": {},
   "outputs": [
    {
     "data": {
      "text/plain": [
       "41"
      ]
     },
     "execution_count": 28,
     "metadata": {},
     "output_type": "execute_result"
    }
   ],
   "source": [
    "# top down\n",
    "def hr(houses, index, tempDict):\n",
    "    if index>=len(houses):\n",
    "        return 0\n",
    "    else:\n",
    "        if index not in tempDict:\n",
    "            stealFirstHouse=houses[index]+hr(houses,index+2, tempDict)\n",
    "            skipFirstHouse=hr(houses,index+1, tempDict)\n",
    "            tempDict[index]=max(stealFirstHouse,skipFirstHouse)\n",
    "        return tempDict[index]\n",
    "h=[6,7,1,30,8,2,4]\n",
    "hr(h,0,{})"
   ]
  },
  {
   "cell_type": "code",
   "execution_count": 29,
   "metadata": {},
   "outputs": [
    {
     "data": {
      "text/plain": [
       "41"
      ]
     },
     "execution_count": 29,
     "metadata": {},
     "output_type": "execute_result"
    }
   ],
   "source": [
    "#bottum up\n",
    "def hr(houses,curIndex):\n",
    "    tempArr=(len(houses)+2)*[0]\n",
    "    for i in range(len(houses)-1,-1,-1):\n",
    "        tempArr[i]=max(houses[i]+tempArr[i+2],tempArr[i+1])\n",
    "    return tempArr[0]\n",
    "        \n",
    "h=[6,7,1,30,8,2,4]\n",
    "hr(h,0)   "
   ]
  },
  {
   "cell_type": "markdown",
   "metadata": {},
   "source": [
    "# convert string with DP"
   ]
  },
  {
   "cell_type": "code",
   "execution_count": 32,
   "metadata": {},
   "outputs": [
    {
     "name": "stdout",
     "output_type": "stream",
     "text": [
      "4\n"
     ]
    }
   ],
   "source": [
    "#bottom up\n",
    "def findMinOperation(s1, s2, index1, index2, tempDict):\n",
    "    if index1 == len(s1):\n",
    "        return len(s2)-index2\n",
    "    if index2 == len(s2):\n",
    "        return len(s1)-index1\n",
    "    if s1[index1] == s2[index2]:\n",
    "        return findMinOperation(s1, s2, index1+1, index2+1,tempDict)\n",
    "    else:\n",
    "        dictKey=str(index1)+str(index2)\n",
    "        if dictKey not in tempDict:\n",
    "            deleteOp = 1 + findMinOperation(s1, s2, index1, index2+1,tempDict)\n",
    "            insertOp = 1 + findMinOperation(s1, s2, index1+1, index2,tempDict)\n",
    "            replaceOp = 1 + findMinOperation(s1, s2, index1+1, index2+1,tempDict)\n",
    "            tempDict[dictKey]=min(deleteOp,insertOp,replaceOp)\n",
    "        return tempDict[dictKey]\n",
    "\n",
    "print(findMinOperation(\"table\", \"tbrltt\", 0, 0,{}))"
   ]
  },
  {
   "cell_type": "markdown",
   "metadata": {},
   "source": [
    "# 0-1 knapsack with DP\n",
    "it dont have using previous results but we can perform DP on this problem, but it not gives more advantage than devide nd conquer, bz there is nothing to use from dictionary"
   ]
  },
  {
   "cell_type": "code",
   "execution_count": 34,
   "metadata": {},
   "outputs": [
    {
     "name": "stdout",
     "output_type": "stream",
     "text": [
      "98\n"
     ]
    }
   ],
   "source": [
    "class Item:\n",
    "    def __init__(self, profit, weight):\n",
    "        self.profit = profit\n",
    "        self.weight = weight\n",
    "\n",
    "def zoKnapsack(items, capacity, currentIndex,tempDict):\n",
    "    dictKey=str(currentIndex)+str(capacity)\n",
    "    if capacity <=0 or currentIndex < 0 or currentIndex >= len(items):\n",
    "        return 0\n",
    "    elif dictKey in tempDict:\n",
    "        return tempDict[currentIndex]\n",
    "        \n",
    "    elif items[currentIndex].weight <= capacity:\n",
    "        profit1 = items[currentIndex].profit + zoKnapsack(items, capacity-items[currentIndex].weight, currentIndex+1,tempDict)\n",
    "        profit2 = zoKnapsack(items, capacity, currentIndex+1,tempDict)\n",
    "        tempDict[dictKey]= max(profit1, profit2)\n",
    "        return tempDict[dictKey]\n",
    "    else:\n",
    "        return 0\n",
    "\n",
    "mango = Item(31, 3)\n",
    "apple = Item(26, 1)\n",
    "orange = Item(17, 2)\n",
    "banana = Item(72, 5)\n",
    "\n",
    "items = [mango, apple, orange, banana]\n",
    "\n",
    "print(zoKnapsack(items, 7, 0,{}))"
   ]
  },
  {
   "cell_type": "code",
   "execution_count": null,
   "metadata": {},
   "outputs": [],
   "source": [
    "#bottom up\n",
    "def zoKnapsack(profits,weights,capacity):\n",
    "    if capacity<=0 or len(profits)==0 or len(weights)!=len(profits):\n",
    "        return 0\n",
    "    numbersOfRow=len(profits)+1\n",
    "    dp=[0 for i in range(capacity+2) for j in range(numbersOfRow)]\n",
    "    for row in range(numbersOfRow-2,-1,-1):\n",
    "        for columns in range(1,capacity+1):\n",
    "            profit1=0\n",
    "            profit2=0\n",
    "            if weights[row]<=columns:\n",
    "                profit1=profit[row]+dp[row+1][columns-weights[row]]\n",
    "            profit2=dp[row+1][columns]\n",
    "            dp[row][columns]=max(profit1, profit)\n",
    "    return dp[0][capacity]\n"
   ]
  }
 ],
 "metadata": {
  "kernelspec": {
   "display_name": "Python 3",
   "language": "python",
   "name": "python3"
  },
  "language_info": {
   "codemirror_mode": {
    "name": "ipython",
    "version": 3
   },
   "file_extension": ".py",
   "mimetype": "text/x-python",
   "name": "python",
   "nbconvert_exporter": "python",
   "pygments_lexer": "ipython3",
   "version": "3.7.6"
  }
 },
 "nbformat": 4,
 "nbformat_minor": 4
}
