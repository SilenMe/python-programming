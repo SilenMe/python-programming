{
 "cells": [
  {
   "cell_type": "markdown",
   "metadata": {},
   "source": [
    "# linklists\n",
    "\n",
    "insert at 0 means at head, at 1 means last and at 2 is 2nd just after head(0th positon)\n",
    "\n",
    "\n",
    "to go a element at gargbage collector, no reference sh"
   ]
  },
  {
   "cell_type": "code",
   "execution_count": null,
   "metadata": {},
   "outputs": [],
   "source": [
    "class SLinkedList:\n",
    "    def __init__(self):\n",
    "        self.head=None\n",
    "        self.tail=None\n",
    "\n",
    "class Node:\n",
    "    def __init__(self,value=None):\n",
    "        self.value=value\n",
    "        self.next=None\n",
    "a=SLinkedList()\n",
    "node1=Node(1)\n",
    "node2=Node(2)\n",
    "node3=Node(3)\n",
    "\n",
    "a.head=node1\n",
    "node1.next=node2\n",
    "node2.next=node3\n",
    "a.tail=node3\n",
    "    "
   ]
  },
  {
   "cell_type": "code",
   "execution_count": null,
   "metadata": {},
   "outputs": [],
   "source": [
    "print(node1.value)"
   ]
  },
  {
   "cell_type": "code",
   "execution_count": null,
   "metadata": {},
   "outputs": [],
   "source": [
    "node1.next"
   ]
  },
  {
   "cell_type": "code",
   "execution_count": null,
   "metadata": {},
   "outputs": [],
   "source": [
    "node2"
   ]
  },
  {
   "cell_type": "code",
   "execution_count": null,
   "metadata": {},
   "outputs": [],
   "source": [
    "node2.value"
   ]
  },
  {
   "cell_type": "markdown",
   "metadata": {},
   "source": [
    "## insertion"
   ]
  },
  {
   "cell_type": "code",
   "execution_count": null,
   "metadata": {},
   "outputs": [],
   "source": [
    "node23=Node(2.5)\n",
    "node2.next=node23\n",
    "node23.next=node3"
   ]
  },
  {
   "cell_type": "code",
   "execution_count": null,
   "metadata": {},
   "outputs": [],
   "source": [
    "node2.next"
   ]
  },
  {
   "cell_type": "code",
   "execution_count": null,
   "metadata": {},
   "outputs": [],
   "source": [
    "node23"
   ]
  },
  {
   "cell_type": "code",
   "execution_count": null,
   "metadata": {},
   "outputs": [],
   "source": [
    "node23.next"
   ]
  },
  {
   "cell_type": "code",
   "execution_count": null,
   "metadata": {},
   "outputs": [],
   "source": [
    "node3"
   ]
  },
  {
   "cell_type": "markdown",
   "metadata": {},
   "source": [
    "## interation and insertion"
   ]
  },
  {
   "cell_type": "code",
   "execution_count": null,
   "metadata": {},
   "outputs": [],
   "source": [
    "class SLinkedList:\n",
    "    def __init__(self):\n",
    "        self.head=None\n",
    "        self.tail=None\n",
    "    def __iter__(self): # for will create this iteration rules\n",
    "        node=self.head\n",
    "        while node:\n",
    "            yield node\n",
    "            node=node.next\n",
    "    def insert(self, value, location):\n",
    "        newNode=Node(value)\n",
    "        if self.head is None: #only head is available        \n",
    "            self.head=newNode\n",
    "            self.tail=newNode\n",
    "        else:\n",
    "            if location==0: #insert at head\n",
    "                newNode.next=self.head\n",
    "                self.head=newNode\n",
    "            elif location==1:\n",
    "                newNode.next=None\n",
    "                self.tail.next=newNode\n",
    "                self.tail=newNode\n",
    "            else:\n",
    "                tempNode=self.head\n",
    "                index=0\n",
    "                while index< location-1:\n",
    "                    tempNode=tempNode.next\n",
    "                    index+=1\n",
    "                nextNode=tempNode.next\n",
    "                tempNode.next=newNode\n",
    "                newNode.next=nextNode\n",
    "    def search(self, nodeValue): #seraching an element\n",
    "        if self.head is None:\n",
    "            print('emply SLL')\n",
    "        else:\n",
    "            node=self.head\n",
    "            while node:\n",
    "                if node.value==nodeValue:\n",
    "                    return nodeValue\n",
    "                node=node.next\n",
    "            return 'value is not in list'\n",
    "    def deleteAll(self):\n",
    "        if self.head is None:\n",
    "            print('no element')\n",
    "        else:\n",
    "            self.head=None\n",
    "            self.tail=None\n",
    "                \n",
    "\n",
    "class Node:\n",
    "    def __init__(self,value=None):\n",
    "        self.value=value\n",
    "        self.next=None\n",
    "    "
   ]
  },
  {
   "cell_type": "code",
   "execution_count": null,
   "metadata": {},
   "outputs": [],
   "source": [
    "a=SLinkedList()\n",
    "a.insert(2,1)\n",
    "print([node.value for node in a ])"
   ]
  },
  {
   "cell_type": "code",
   "execution_count": null,
   "metadata": {},
   "outputs": [],
   "source": [
    "a.insert(1,1)\n",
    "print([node.value for node in a ])"
   ]
  },
  {
   "cell_type": "code",
   "execution_count": null,
   "metadata": {},
   "outputs": [],
   "source": [
    "a.insert(5,1)\n",
    "a.insert(2,1)\n",
    "a.insert(50,0)\n",
    "print([node.value for node in a ])"
   ]
  },
  {
   "cell_type": "code",
   "execution_count": null,
   "metadata": {},
   "outputs": [],
   "source": [
    "a.insert(51,4)\n",
    "print([node.value for node in a ])"
   ]
  },
  {
   "cell_type": "markdown",
   "metadata": {},
   "source": [
    "## searching in SLL"
   ]
  },
  {
   "cell_type": "code",
   "execution_count": null,
   "metadata": {},
   "outputs": [],
   "source": [
    "a.search(51)"
   ]
  },
  {
   "cell_type": "code",
   "execution_count": null,
   "metadata": {},
   "outputs": [],
   "source": [
    "a.search(52)"
   ]
  },
  {
   "cell_type": "code",
   "execution_count": null,
   "metadata": {},
   "outputs": [],
   "source": [
    "a.deleteAll()"
   ]
  },
  {
   "cell_type": "code",
   "execution_count": null,
   "metadata": {},
   "outputs": [],
   "source": [
    "print([node.value for node in a ])"
   ]
  },
  {
   "cell_type": "markdown",
   "metadata": {},
   "source": [
    "## deletion and taversal methodes are remaining"
   ]
  },
  {
   "cell_type": "code",
   "execution_count": null,
   "metadata": {},
   "outputs": [],
   "source": []
  },
  {
   "cell_type": "markdown",
   "metadata": {},
   "source": [
    "# circular link list"
   ]
  },
  {
   "cell_type": "code",
   "execution_count": null,
   "metadata": {},
   "outputs": [],
   "source": [
    "class Node:\n",
    "    def __init__(self,value=None):\n",
    "        self.value=value\n",
    "        self.next=None\n",
    "\n",
    "        \n",
    "class CLinkedList:\n",
    "    def __init__(self):\n",
    "        self.head=None\n",
    "        self.tail=None\n",
    "    def __iter__(self):\n",
    "        node=self.head\n",
    "        while node:\n",
    "            yield node\n",
    "            if node.next==self.tail.nextto starting position\n",
    "                break\n",
    "            node= node.next\n",
    "    def create(self, nodeValue):\n",
    "        node=Node( nodeValue)\n",
    "        node.next=node # bz od one element\n",
    "        self.head=node\n",
    "        self.tail=nodeValue"
   ]
  },
  {
   "cell_type": "code",
   "execution_count": null,
   "metadata": {},
   "outputs": [],
   "source": [
    "a=CLinkedList()\n",
    "a.create(5)\n",
    "print([node.value for node in a])\n"
   ]
  },
  {
   "cell_type": "markdown",
   "metadata": {},
   "source": [
    "# doubly link list"
   ]
  },
  {
   "cell_type": "code",
   "execution_count": null,
   "metadata": {},
   "outputs": [],
   "source": [
    "class Node:\n",
    "    def __init__(self,value=None):\n",
    "        self.value=value\n",
    "        self.next=None\n",
    "        self.prev=None\n",
    "class DLL:\n",
    "    def __init__(self):\n",
    "        self.head=None\n",
    "        self.tail=None\n",
    "    def __iter__(self):\n",
    "        node=self.head\n",
    "        while node: #bz we have to yield last node too\n",
    "            yield node \n",
    "            node=node.next\n",
    "    def create(self,nodeValue):\n",
    "        node=Node(nodeValue)\n",
    "        self.head=node\n",
    "        self.tail=node\n",
    "    def insert(self,val,pos): #pos=position val=value\n",
    "        if self.head is None:\n",
    "            return 'use create methode first'\n",
    "        else:\n",
    "            newNode=Node(val)\n",
    "            if pos==0:\n",
    "                newNode.next=self.head\n",
    "                self.head.prev=newNode\n",
    "                self.head=newNode\n",
    "            elif pos==1:\n",
    "                newNode.prev=self.tail\n",
    "                self.tail.next=newNode\n",
    "                self.tail=newNode\n",
    "            else:\n",
    "                tempNode=self.head #for traversal purpose\n",
    "                index=0\n",
    "                while index<pos-1:\n",
    "                    tempNode=tempNode.next\n",
    "                    index=index+1\n",
    "                newNode.next=tempNode.next\n",
    "                newNode.prev=tempNode\n",
    "                newNode.next.prev=newNode\n",
    "                tempNode.next=newNode\n",
    "    #def delete by value or positon\n",
    "    \n",
    "    \n",
    "    #def traverse\n",
    "    \n",
    "    \n",
    "    # def deleteEntireList\n",
    "                    \n",
    "                \n",
    "                \n",
    "        \n",
    "            "
   ]
  },
  {
   "cell_type": "code",
   "execution_count": null,
   "metadata": {},
   "outputs": [],
   "source": [
    "dll1=DLL()\n",
    "dll1.create(1)\n",
    "print([node.value for node in dll1])"
   ]
  },
  {
   "cell_type": "code",
   "execution_count": null,
   "metadata": {},
   "outputs": [],
   "source": [
    "dll1.insert(4,0)\n",
    "print([node.value for node in dll1])"
   ]
  },
  {
   "cell_type": "code",
   "execution_count": null,
   "metadata": {},
   "outputs": [],
   "source": [
    "dll1.insert(6,1)\n",
    "print([node.value for node in dll1])"
   ]
  },
  {
   "cell_type": "code",
   "execution_count": null,
   "metadata": {},
   "outputs": [],
   "source": [
    "dll1.insert(2,2)\n",
    "print([node.value for node in dll1])"
   ]
  },
  {
   "cell_type": "markdown",
   "metadata": {},
   "source": [
    "# circular doubly linklist"
   ]
  },
  {
   "cell_type": "markdown",
   "metadata": {},
   "source": [
    "# universal LL\n"
   ]
  },
  {
   "cell_type": "code",
   "execution_count": null,
   "metadata": {},
   "outputs": [],
   "source": [
    "from random import randint\n",
    "\n",
    "class Node:\n",
    "    def __init__(self,value=None):\n",
    "        self.value=value\n",
    "        self.next=None\n",
    "        self.prev=None\n",
    "    \n",
    "    def __str__(self): #if we use print for any node then this methode will be called\n",
    "        return str(self.value)\n",
    "        \n",
    "        \n",
    "class LL:\n",
    "    def __init__(self, values=None):\n",
    "        self.head=None\n",
    "        self.tail=None\n",
    "    def __iter__(self):\n",
    "        curNode=self.head\n",
    "        while curNode: #bz we have to yield last node too\n",
    "            yield curNode \n",
    "            curNode=curNode.next\n",
    "    \n",
    "    def __str__(self):\n",
    "        values = [ str(x.value) for x in self] \n",
    "        return '-> '.join(values)\n",
    "        \n",
    "    def __len__(self): # to use len() function on list\n",
    "        result=0\n",
    "        node=self.head\n",
    "        while node:\n",
    "            node=node.next\n",
    "            result+=1\n",
    "        return result\n",
    "    \n",
    "    def add(self,value): #add at last like push()\n",
    "        if self.head is None:\n",
    "            newNode=Node(value)\n",
    "            self.head=newNode\n",
    "            self.tail=newNode\n",
    "        else:\n",
    "            self.tail.next=Node(value)\n",
    "            self.tail=self.tail.next\n",
    "        return self.tail\n",
    "    \n",
    "    def randGen(self, n, minVal, maxVal): #random ll generator from numbers in range min and maxVal\n",
    "        for i in range(n):\n",
    "            self.add(randint( minVal, maxVal))\n",
    "        return self\n",
    "        \n",
    "            \n",
    "        "
   ]
  },
  {
   "cell_type": "code",
   "execution_count": 2,
   "metadata": {},
   "outputs": [
    {
     "name": "stdout",
     "output_type": "stream",
     "text": [
      "27-> 28-> 15-> 42-> 10-> 24-> 73-> 99-> 89-> 42\n"
     ]
    }
   ],
   "source": [
    "ll=LL()\n",
    "ll.randGen(10,0,99)\n",
    "print(ll)"
   ]
  },
  {
   "cell_type": "markdown",
   "metadata": {},
   "source": [
    "## remove duplicate function \n",
    "20-> 95-> 42-> 90-> 42  \n",
    "\n",
    "42 is duplicated"
   ]
  },
  {
   "cell_type": "code",
   "execution_count": 3,
   "metadata": {},
   "outputs": [
    {
     "name": "stdout",
     "output_type": "stream",
     "text": [
      "27-> 28-> 15-> 42-> 10-> 24-> 73-> 99-> 89-> 42-> 35\n",
      "99-> 35-> 73-> 10-> 42-> 15-> 24-> 89-> 27-> 28\n"
     ]
    }
   ],
   "source": [
    "#nieve\n",
    "\n",
    "def f(ll):\n",
    "    ll2=LL()\n",
    "    l=[x.value for x in ll]\n",
    "    l=set(l)\n",
    "    for e in l:\n",
    "        ll2.add(e)\n",
    "    return ll2\n",
    "ll.add(35)\n",
    "print(ll)\n",
    "\n",
    "a=f(ll)\n",
    "print(a)"
   ]
  },
  {
   "cell_type": "code",
   "execution_count": 4,
   "metadata": {},
   "outputs": [
    {
     "name": "stdout",
     "output_type": "stream",
     "text": [
      "27-> 28-> 15-> 42-> 10-> 24-> 73-> 99-> 89-> 42-> 35-> 35-> 35-> 35\n",
      "27-> 28-> 15-> 42-> 10-> 24-> 73-> 99-> 89-> 35\n"
     ]
    }
   ],
   "source": [
    "# optimised\n",
    "\n",
    "def f(ll):\n",
    "    if ll.head is None:\n",
    "        return 'empty'\n",
    "    else:\n",
    "        curNode=ll.head\n",
    "        d=set([curNode.value])\n",
    "        while curNode.next:\n",
    "            if curNode.next.value in d:\n",
    "                curNode.next =curNode.next.next\n",
    "            else:\n",
    "                d.add(curNode.next.value)\n",
    "                curNode=curNode.next\n",
    "            \n",
    "                \n",
    "        return ll\n",
    "ll.add(35)\n",
    "ll.add(35)\n",
    "ll.add(35)\n",
    "print(ll)\n",
    "\n",
    "a=f(ll)\n",
    "print(a)"
   ]
  },
  {
   "cell_type": "markdown",
   "metadata": {},
   "source": [
    "partition around x"
   ]
  },
  {
   "cell_type": "markdown",
   "metadata": {},
   "source": [
    "sum lists"
   ]
  },
  {
   "cell_type": "markdown",
   "metadata": {},
   "source": [
    "\n",
    "            "
   ]
  }
 ],
 "metadata": {
  "kernelspec": {
   "display_name": "Python 3",
   "language": "python",
   "name": "python3"
  },
  "language_info": {
   "codemirror_mode": {
    "name": "ipython",
    "version": 3
   },
   "file_extension": ".py",
   "mimetype": "text/x-python",
   "name": "python",
   "nbconvert_exporter": "python",
   "pygments_lexer": "ipython3",
   "version": "3.7.6"
  }
 },
 "nbformat": 4,
 "nbformat_minor": 4
}
