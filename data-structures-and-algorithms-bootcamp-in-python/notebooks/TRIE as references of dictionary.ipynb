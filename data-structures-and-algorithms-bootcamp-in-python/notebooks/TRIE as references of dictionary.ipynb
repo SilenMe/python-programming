{
 "cells": [
  {
   "cell_type": "markdown",
   "metadata": {},
   "source": [
    "# trie\n",
    "a tree based DS that organizes info. in a hierarchy\n",
    "\n",
    "#### properties\n",
    "1. used to store(or search) string in a space and time efficient way\n",
    "2. any node can stores non repetative multiple character\n",
    "3. every node stores link to next character of string\n",
    "4. every node keep track of end of string\n"
   ]
  },
  {
   "cell_type": "markdown",
   "metadata": {},
   "source": [
    "# uses:\n",
    "1. autocomplete\n",
    "2. spell checker"
   ]
  },
  {
   "cell_type": "code",
   "execution_count": 3,
   "metadata": {},
   "outputs": [],
   "source": [
    "class TrieNode:\n",
    "    def __init__(self):\n",
    "        self.children={}\n",
    "        self.endOfString=False\n",
    "class Trie:\n",
    "    def __init__(self):\n",
    "        self.root=TrieNode()\n",
    "        \n",
    "    def insertString(self,word):\n",
    "        current = self.root\n",
    "        for i in word:\n",
    "            ch=i\n",
    "            node= current.children.get(ch)\n",
    "            if node==None:\n",
    "                node=TrieNode()\n",
    "                current.children.update({ch:node})\n",
    "            current = node\n",
    "        current.endOfString=True\n",
    "        print('inserted')\n",
    "    \n",
    "    def searchString(self, word):\n",
    "        currentNode = self.root\n",
    "        for i in word:\n",
    "            node = currentNode.children.get(i)\n",
    "            if node == None:\n",
    "                return False\n",
    "            currentNode = node\n",
    "\n",
    "        if currentNode.endOfString == True:\n",
    "            return True\n",
    "        else:\n",
    "            return False\n",
    "        \n",
    "newTrie=Trie()"
   ]
  },
  {
   "cell_type": "code",
   "execution_count": 4,
   "metadata": {},
   "outputs": [
    {
     "name": "stdout",
     "output_type": "stream",
     "text": [
      "inserted\n",
      "inserted\n"
     ]
    }
   ],
   "source": [
    "newTrie.insertString('app')\n",
    "newTrie.insertString('appl')"
   ]
  },
  {
   "cell_type": "code",
   "execution_count": 5,
   "metadata": {},
   "outputs": [
    {
     "data": {
      "text/plain": [
       "True"
      ]
     },
     "execution_count": 5,
     "metadata": {},
     "output_type": "execute_result"
    }
   ],
   "source": [
    "newTrie.searchString('app')"
   ]
  },
  {
   "cell_type": "code",
   "execution_count": 6,
   "metadata": {},
   "outputs": [
    {
     "data": {
      "text/plain": [
       "False"
      ]
     },
     "execution_count": 6,
     "metadata": {},
     "output_type": "execute_result"
    }
   ],
   "source": [
    "newTrie.searchString('ap')"
   ]
  },
  {
   "cell_type": "code",
   "execution_count": 7,
   "metadata": {},
   "outputs": [
    {
     "data": {
      "text/plain": [
       "True"
      ]
     },
     "execution_count": 7,
     "metadata": {},
     "output_type": "execute_result"
    }
   ],
   "source": [
    "newTrie.searchString('appl')"
   ]
  },
  {
   "cell_type": "code",
   "execution_count": 8,
   "metadata": {},
   "outputs": [
    {
     "data": {
      "text/plain": [
       "False"
      ]
     },
     "execution_count": 8,
     "metadata": {},
     "output_type": "execute_result"
    }
   ],
   "source": [
    "newTrie.searchString('appp')"
   ]
  },
  {
   "cell_type": "markdown",
   "metadata": {},
   "source": [
    "deletion always done from leaf from root \n",
    "\n",
    "4 cases of deletion\n",
    "\n"
   ]
  },
  {
   "cell_type": "code",
   "execution_count": null,
   "metadata": {},
   "outputs": [],
   "source": [
    "def deleteString(root, word, index):\n",
    "    ch = word[index]\n",
    "    currentNode = root.children.get(ch)\n",
    "    canThisNodeBeDeleted = False\n",
    "\n",
    "    if len(currentNode.children) > 1:\n",
    "        deleteString(currentNode, word, index+1)\n",
    "        return False\n",
    "    \n",
    "    if index == len(word) - 1:\n",
    "        if len(currentNode.children) >= 1:\n",
    "            currentNode.endOfString = False\n",
    "            return False\n",
    "        else:\n",
    "            root.children.pop(ch)\n",
    "            return True\n",
    "    \n",
    "    if currentNode.endOfString == True:\n",
    "        deleteString(currentNode, word, index+1)\n",
    "        return False\n",
    "\n",
    "    canThisNodeBeDeleted = deleteString(currentNode, word, index+1)\n",
    "    if canThisNodeBeDeleted == True:\n",
    "        root.children.pop(ch)\n",
    "        return True\n",
    "    else:\n",
    "        return False"
   ]
  }
 ],
 "metadata": {
  "kernelspec": {
   "display_name": "Python 3",
   "language": "python",
   "name": "python3"
  },
  "language_info": {
   "codemirror_mode": {
    "name": "ipython",
    "version": 3
   },
   "file_extension": ".py",
   "mimetype": "text/x-python",
   "name": "python",
   "nbconvert_exporter": "python",
   "pygments_lexer": "ipython3",
   "version": "3.7.6"
  }
 },
 "nbformat": 4,
 "nbformat_minor": 4
}
