{
 "cells": [
  {
   "cell_type": "markdown",
   "metadata": {},
   "source": [
    "### sorting types:\n",
    "1. space used\n",
    "\n",
    "1.1 in space: no extra space required\n",
    "\n",
    "1.2 outof space\n",
    "\n",
    "\n",
    "\n",
    "\n",
    "2. stability\n",
    "\n",
    "2.1 stable: order maintained for same data: insertion sort\n",
    "\n",
    "2.2 unstable: quick sort\n",
    "\n",
    "### terms\n",
    "decreasing order != non increasing order bz in case of non inceasing order equal elements/duplicate value are also taken\n",
    "\n",
    "## how to choose one algo:\n",
    "based on -stability -space efficient and -time efficient\n",
    "\n"
   ]
  },
  {
   "cell_type": "markdown",
   "metadata": {},
   "source": [
    "# bubble sort: compare and swap\n",
    "in first iteration biggest value bubbles to last position\n"
   ]
  },
  {
   "cell_type": "code",
   "execution_count": 3,
   "metadata": {},
   "outputs": [],
   "source": [
    "def bubble(customList):\n",
    "    #null case and 1 value case\n",
    "    for i in range(len(customList)-1):\n",
    "        for j in range(len(customList)-1-i):\n",
    "            #swap based on value\n",
    "            if customList[j]>customList[j+1]:\n",
    "                customList[j],customList[j+1]=customList[j+1],customList[j]\n",
    "    print(customList)"
   ]
  },
  {
   "cell_type": "code",
   "execution_count": 4,
   "metadata": {},
   "outputs": [
    {
     "name": "stdout",
     "output_type": "stream",
     "text": [
      "[1, 2, 6, 7, 8, 9]\n"
     ]
    }
   ],
   "source": [
    "c=[2,1,7,6,9,8]\n",
    "bubble(c)"
   ]
  },
  {
   "cell_type": "markdown",
   "metadata": {},
   "source": [
    "## when to use:\n",
    "1. when input is already almost sorted\n",
    "2. when space is important\n",
    "3. easy to implement\n",
    "\n",
    "## when not:\n",
    "random input\n",
    "\n",
    "time O(N*N)\n",
    "space O(N)\n"
   ]
  },
  {
   "cell_type": "markdown",
   "metadata": {},
   "source": [
    "# selection sort: devides in sorted and unsorted array take min from unsorted\n",
    "\n",
    "performs better for small array"
   ]
  },
  {
   "cell_type": "code",
   "execution_count": 8,
   "metadata": {},
   "outputs": [],
   "source": [
    "def selectionSort(customList):\n",
    "    #null or 1 element case\n",
    "    for i in range(len(customList)-1):\n",
    "        min_index=i\n",
    "        for j in range(i+1,len(customList)-1):\n",
    "            if customList[j]<customList[min_index]:\n",
    "                min_index=j\n",
    "        customList[i],customList[min_index]=customList[min_index],customList[i]\n",
    "    print(customList)"
   ]
  },
  {
   "cell_type": "code",
   "execution_count": 9,
   "metadata": {},
   "outputs": [
    {
     "name": "stdout",
     "output_type": "stream",
     "text": [
      "[1, 2, 6, 7, 9, 8]\n"
     ]
    }
   ],
   "source": [
    "c=[2,1,7,6,9,8]\n",
    "selectionSort(c)"
   ]
  },
  {
   "cell_type": "markdown",
   "metadata": {},
   "source": [
    "## use:\n",
    "\n",
    "\n",
    "O(N*N)\n",
    "O(1)"
   ]
  },
  {
   "cell_type": "markdown",
   "metadata": {},
   "source": [
    "# insertion sort: devides in sorted and unsorted array: take first from unsorted and put it in right place in sorted array"
   ]
  },
  {
   "cell_type": "code",
   "execution_count": 1,
   "metadata": {},
   "outputs": [
    {
     "data": {
      "text/plain": [
       "[1, 2, 6, 7, 8, 9]"
      ]
     },
     "execution_count": 1,
     "metadata": {},
     "output_type": "execute_result"
    }
   ],
   "source": [
    "def insertionSort(customList):\n",
    "    for i in range(1, len(customList)): #fisrt value will be sorted by itself\n",
    "        key = customList[i]\n",
    "        j = i-1\n",
    "        while j>=0 and key < customList[j]:\n",
    "            customList[j+1] = customList[j]\n",
    "            j -= 1\n",
    "        customList[j+1] = key\n",
    "    return customList\n",
    "c=[2,1,7,6,9,8]\n",
    "insertionSort(c)"
   ]
  },
  {
   "cell_type": "markdown",
   "metadata": {},
   "source": [
    "### usecase:\n",
    "when we want to sort continuous flow of data"
   ]
  },
  {
   "cell_type": "markdown",
   "metadata": {},
   "source": [
    "# bucket sort\n",
    "prefered no of buckates is sqrt(length of input)\n",
    "\n",
    "buckate cell no.= ciel value of: (val* no. of buckate)/maxValue\n",
    "\n",
    "then sort those buckates individually the merge them\n",
    "\n",
    "\n"
   ]
  },
  {
   "cell_type": "code",
   "execution_count": 2,
   "metadata": {},
   "outputs": [],
   "source": [
    "import math\n",
    "def bucketSort(customList):\n",
    "    numberofBuckets = round(math.sqrt(len(customList)))\n",
    "    maxValue = max(customList)\n",
    "    arr = []\n",
    "\n",
    "    for i in range(numberofBuckets): #craeting 2d for buckat\n",
    "        arr.append([])\n",
    "    for j in customList:\n",
    "        index_b = math.ceil(j*numberofBuckets/maxValue)\n",
    "        arr[index_b-1].append(j)\n",
    "    \n",
    "    for i in range(numberofBuckets):\n",
    "        arr[i] = insertionSort(arr[i])\n",
    "    \n",
    "    k = 0\n",
    "    for i in range(numberofBuckets):\n",
    "        for j in range(len(arr[i])):\n",
    "            customList[k] = arr[i][j]\n",
    "            k += 1\n",
    "    return customList"
   ]
  },
  {
   "cell_type": "code",
   "execution_count": 3,
   "metadata": {},
   "outputs": [
    {
     "data": {
      "text/plain": [
       "[1, 2, 3, 6, 7, 8, 9, 10, 12, 14, 18]"
      ]
     },
     "execution_count": 3,
     "metadata": {},
     "output_type": "execute_result"
    }
   ],
   "source": [
    "c=[2,1,7,6,9,8,12,10,3,18,14]\n",
    "bucketSort(c)"
   ]
  },
  {
   "cell_type": "markdown",
   "metadata": {},
   "source": [
    "### when to use\n",
    "when input is uniformaly distributed over range\n",
    "\n",
    "avoid when space is a concern"
   ]
  },
  {
   "cell_type": "markdown",
   "metadata": {},
   "source": [
    "# merge sort\n",
    "\n",
    "merge around given MIDDLE\n"
   ]
  },
  {
   "cell_type": "code",
   "execution_count": 4,
   "metadata": {},
   "outputs": [],
   "source": [
    "def merge(customList, l, m, r):\n",
    "    n1 = m - l + 1\n",
    "    n2 = r - m\n",
    "\n",
    "    L = [0] * (n1)\n",
    "    R = [0] * (n2)\n",
    "\n",
    "    for i in range(0, n1): #copying element\n",
    "        L[i] = customList[l+i]\n",
    "    \n",
    "    for j in range(0, n2):\n",
    "        R[j] = customList[m+1+j]\n",
    "    \n",
    "    i = 0 \n",
    "    j = 0\n",
    "    k = l\n",
    "    while i < n1 and j < n2: #merging in sorted order\n",
    "        if L[i] <= R[j]:\n",
    "            customList[k] = L[i]\n",
    "            i += 1\n",
    "        else:\n",
    "            customList[k] = R[j]\n",
    "            j += 1\n",
    "        k += 1\n",
    "    while i < n1: #when elements in n2 ends\n",
    "        customList[k] = L[i]\n",
    "        i += 1\n",
    "        k += 1\n",
    "    \n",
    "    while j < n2: #when elements in n1 ends\n",
    "        customList[k] = R[j]\n",
    "        j += 1\n",
    "        k += 1\n",
    "\n",
    "def mergeSort(customList, l, r):\n",
    "    if l < r:\n",
    "        m = (l+(r-1))//2 #taking middle m as avg\n",
    "        mergeSort(customList, l, m)\n",
    "        mergeSort(customList, m+1, r)\n",
    "        merge(customList, l, m, r)\n",
    "    return customList"
   ]
  },
  {
   "cell_type": "code",
   "execution_count": 7,
   "metadata": {},
   "outputs": [
    {
     "data": {
      "text/plain": [
       "[1, 2, 3, 6, 7, 8, 9, 10, 12, 14, 18]"
      ]
     },
     "execution_count": 7,
     "metadata": {},
     "output_type": "execute_result"
    }
   ],
   "source": [
    "c=[2,1,7,6,9,8,12,10,3,18,14]\n",
    "mergeSort(c,0,len(c)-1)"
   ]
  },
  {
   "cell_type": "markdown",
   "metadata": {},
   "source": [
    "### use\n",
    "stable sort\n",
    "\n",
    "O(nlog N) O(n)"
   ]
  },
  {
   "cell_type": "markdown",
   "metadata": {},
   "source": [
    "# quick sort\n",
    "it sorts quickly according to pivot\n",
    "\n",
    "when both left and right markers stops: swap them \n",
    "\n",
    "\n",
    "\n",
    "avoid for stable sort"
   ]
  },
  {
   "cell_type": "code",
   "execution_count": 10,
   "metadata": {},
   "outputs": [
    {
     "data": {
      "text/plain": [
       "[1, 2, 3, 6, 7, 8, 9, 10, 12, 14, 18]"
      ]
     },
     "execution_count": 10,
     "metadata": {},
     "output_type": "execute_result"
    }
   ],
   "source": [
    "def partition(customList, low, high):\n",
    "    i = low - 1\n",
    "    pivot = customList[high]\n",
    "    for j in range(low,high):\n",
    "        if customList[j] <= pivot:\n",
    "            i += 1\n",
    "            customList[i], customList[j] = customList[j], customList[i]\n",
    "    customList[i+1], customList[high] = customList[high], customList[i+1]\n",
    "    return (i+1)\n",
    "\n",
    "def quickSort(customList, low, high):\n",
    "    if low < high:\n",
    "        pi = partition(customList, low, high)\n",
    "        quickSort(customList, low, pi-1)\n",
    "        quickSort(customList, pi+1, high)\n",
    "c=[2,1,7,6,9,8,12,10,3,18,14]\n",
    "quickSort(c,0,len(c)-1)    \n",
    "c"
   ]
  },
  {
   "cell_type": "markdown",
   "metadata": {},
   "source": [
    "# heap sort\n",
    "uses bin-heap\n",
    "\n",
    "step 1 insert all data to bin-heap\n",
    "\n",
    "step 2 extract all element from bin heap\n",
    "\n",
    "note: FOR ARRAY IMPLEMENTATION\n",
    "\n"
   ]
  },
  {
   "cell_type": "code",
   "execution_count": 15,
   "metadata": {},
   "outputs": [
    {
     "name": "stdout",
     "output_type": "stream",
     "text": [
      "[18, 14, 12, 10, 9, 8, 7, 6, 3, 2, 1]\n",
      "[1, 2, 3, 6, 7, 8, 9, 10, 12, 14, 18]\n"
     ]
    }
   ],
   "source": [
    "def heapify(customList, n, i): #same as heapifyOnDeletion\n",
    "    smallest = i\n",
    "    l = 2*i + 1\n",
    "    r = 2*i + 2\n",
    "    if l < n and customList[l] < customList[smallest]: #finding smallest to swap\n",
    "        smallest = l\n",
    "    \n",
    "    if r < n and customList[r] < customList[smallest]:\n",
    "        smallest = r\n",
    "    \n",
    "    if smallest != i:\n",
    "        customList[i], customList[smallest] = customList[smallest], customList[i]\n",
    "        heapify(customList, n, smallest)\n",
    "\n",
    "\n",
    "def heapSort(customList):\n",
    "    n = len(customList)\n",
    "    for i in range(int(n/2)-1, -1, -1):\n",
    "        heapify(customList, n, i)\n",
    "    \n",
    "    for i in range(n-1,0,-1):\n",
    "        customList[i], customList[0] = customList[0], customList[i]\n",
    "        heapify(customList, i, 0)\n",
    "c=[2,1,7,6,9,8,12,10,3,18,14]\n",
    "heapSort(c)    \n",
    "print(c)\n",
    "c.reverse()\n",
    "print(c)"
   ]
  },
  {
   "cell_type": "code",
   "execution_count": null,
   "metadata": {},
   "outputs": [],
   "source": []
  }
 ],
 "metadata": {
  "kernelspec": {
   "display_name": "Python 3",
   "language": "python",
   "name": "python3"
  },
  "language_info": {
   "codemirror_mode": {
    "name": "ipython",
    "version": 3
   },
   "file_extension": ".py",
   "mimetype": "text/x-python",
   "name": "python",
   "nbconvert_exporter": "python",
   "pygments_lexer": "ipython3",
   "version": "3.7.6"
  }
 },
 "nbformat": 4,
 "nbformat_minor": 4
}
