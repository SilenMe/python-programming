{
 "cells": [
  {
   "cell_type": "markdown",
   "metadata": {},
   "source": [
    "# initialization using tree"
   ]
  },
  {
   "cell_type": "code",
   "execution_count": null,
   "metadata": {},
   "outputs": [],
   "source": [
    "class TreeNode:\n",
    "    def __init__(self, data):\n",
    "        self.data = data\n",
    "        self.leftChild = None\n",
    "        self.rightChild = None\n",
    "\n",
    "newBT = TreeNode(\"Drinks\")\n",
    "leftChild = TreeNode(\"Hot\")\n",
    "tea = TreeNode(\"Tea\")\n",
    "coffee = TreeNode(\"Coffee\")\n",
    "leftChild.leftChild = tea\n",
    "leftChild.rightChild = coffee\n",
    "rightChild = TreeNode(\"Cold\")\n",
    "newBT.leftChild = leftChild\n",
    "newBT.rightChild = rightChild"
   ]
  },
  {
   "cell_type": "code",
   "execution_count": null,
   "metadata": {},
   "outputs": [],
   "source": [
    "def preOrderTraversal(rootNode):\n",
    "    if not rootNode:\n",
    "        return\n",
    "    print(rootNode.data)\n",
    "    preOrderTraversal(rootNode.leftChild)\n",
    "    preOrderTraversal(rootNode.rightChild)"
   ]
  },
  {
   "cell_type": "code",
   "execution_count": null,
   "metadata": {},
   "outputs": [],
   "source": [
    "preOrderTraversal(newBT)"
   ]
  },
  {
   "cell_type": "code",
   "execution_count": null,
   "metadata": {},
   "outputs": [],
   "source": [
    "def inOrderTraversal(rootNode):\n",
    "    if not rootNode:\n",
    "        return\n",
    "    inOrderTraversal(rootNode.leftChild)\n",
    "    print(rootNode.data)\n",
    "    inOrderTraversal(rootNode.rightChild)"
   ]
  },
  {
   "cell_type": "code",
   "execution_count": null,
   "metadata": {},
   "outputs": [],
   "source": [
    "inOrderTraversal(newBT)"
   ]
  },
  {
   "cell_type": "code",
   "execution_count": null,
   "metadata": {},
   "outputs": [],
   "source": [
    "def postOrderTraversal(rootNode):\n",
    "    if not rootNode:\n",
    "        return\n",
    "    postOrderTraversal(rootNode.leftChild)\n",
    "    postOrderTraversal(rootNode.rightChild)\n",
    "    print(rootNode.data)"
   ]
  },
  {
   "cell_type": "code",
   "execution_count": null,
   "metadata": {},
   "outputs": [],
   "source": [
    "postOrderTraversal(newBT)"
   ]
  },
  {
   "cell_type": "markdown",
   "metadata": {},
   "source": [
    "## level order traversal\n",
    "### for level order traversal we need queue\n",
    "structure of queue using linkedlist is:\n",
    "\n",
    "class Node:\n",
    "    def __init__(self, value=None):\n",
    "        self.value = value\n",
    "        self.next = None\n",
    "    \n",
    "    def __str__(self):\n",
    "        return str(self.value)\n",
    "\n",
    "class LinkedList:\n",
    "    def __init__(self):\n",
    "        self.head = None\n",
    "        self.tail = None\n",
    "    \n",
    "    def __iter__(self):\n",
    "        curNode = self.head\n",
    "        while curNode:\n",
    "            yield curNode\n",
    "            curNode = curNode.next\n",
    "\n",
    "class Queue:\n",
    "    def __init__(self):\n",
    "        self.linkedList = LinkedList()\n",
    "    \n",
    "    def __str__(self):\n",
    "        values = [str(x) for x in self.linkedList]\n",
    "        return ' '.join(values)\n",
    "    \n",
    "    def enqueue(self, value):\n",
    "        newNode = Node(value)\n",
    "        if self.linkedList.head == None:\n",
    "            self.linkedList.head = newNode\n",
    "            self.linkedList.tail = newNode\n",
    "        else:\n",
    "            self.linkedList.tail.next = newNode\n",
    "            self.linkedList.tail = newNode\n",
    "    \n",
    "    def isEmpty(self):\n",
    "        if self.linkedList.head == None:\n",
    "            return True\n",
    "        else:\n",
    "            return False\n",
    "    \n",
    "    def dequeue(self):\n",
    "        if self.isEmpty():\n",
    "            return \"There is not any node in the Queue\"\n",
    "        else:\n",
    "            tempNode = self.linkedList.head\n",
    "            if self.linkedList.head == self.linkedList.tail:\n",
    "                self.linkedList.head = None\n",
    "                self.linkedList.tail = None\n",
    "            else:\n",
    "                self.linkedList.head = self.linkedList.head.next\n",
    "            return tempNode\n",
    "    \n",
    "    def peek(self):\n",
    "        if self.isEmpty():\n",
    "            return \"There is not any node in the Queue\"\n",
    "        else:\n",
    "            return self.linkedList.head\n",
    "    \n",
    "    def delete(self):\n",
    "        self.linkedList.head = None\n",
    "        self.linkedList.tail = None"
   ]
  },
  {
   "cell_type": "code",
   "execution_count": null,
   "metadata": {},
   "outputs": [],
   "source": [
    "import QueueLinkedList as queue\n",
    "def levelOrderTraversal(rootNode):\n",
    "    if not rootNode:\n",
    "        return\n",
    "    else:\n",
    "        customQueue = queue.Queue()\n",
    "        customQueue.enqueue(rootNode)\n",
    "        while not(customQueue.isEmpty()):\n",
    "            root = customQueue.dequeue()\n",
    "            print(root.value.data)\n",
    "            if (root.value.leftChild is not None):\n",
    "                customQueue.enqueue(root.value.leftChild)\n",
    "            \n",
    "            if (root.value.rightChild is not None):\n",
    "                customQueue.enqueue(root.value.rightChild)"
   ]
  },
  {
   "cell_type": "code",
   "execution_count": null,
   "metadata": {},
   "outputs": [],
   "source": [
    "levelOrderTraversal(newBT)"
   ]
  },
  {
   "cell_type": "markdown",
   "metadata": {},
   "source": [
    "## searching \n",
    "searching with levelOrder is best because queue performs better than stack"
   ]
  },
  {
   "cell_type": "code",
   "execution_count": null,
   "metadata": {},
   "outputs": [],
   "source": [
    "def searchBT(rootNode, nodeValue):\n",
    "    if not rootNode:\n",
    "        return \"The BT does not exist\"\n",
    "    else:\n",
    "        customQueue = queue.Queue()\n",
    "        customQueue.enqueue(rootNode)\n",
    "        while not(customQueue.isEmpty()):\n",
    "            root = customQueue.dequeue()\n",
    "            if root.value.data == nodeValue:\n",
    "                return \"Success\"\n",
    "            if (root.value.leftChild is not None):\n",
    "                customQueue.enqueue(root.value.leftChild)\n",
    "            \n",
    "            if (root.value.rightChild is not None):\n",
    "                customQueue.enqueue(root.value.rightChild)\n",
    "        return \"Not found\""
   ]
  },
  {
   "cell_type": "code",
   "execution_count": null,
   "metadata": {},
   "outputs": [],
   "source": [
    "searchBT(newBT, 'Coffee')"
   ]
  },
  {
   "cell_type": "code",
   "execution_count": null,
   "metadata": {},
   "outputs": [],
   "source": [
    "searchBT(newBT, 'copy')"
   ]
  },
  {
   "cell_type": "markdown",
   "metadata": {},
   "source": [
    "## insertion\n",
    "insert at levelOrder vacant node is better to ensure good structured tree"
   ]
  },
  {
   "cell_type": "code",
   "execution_count": null,
   "metadata": {},
   "outputs": [],
   "source": [
    "def insertNodeBT(rootNode, newNode):\n",
    "    if not rootNode:\n",
    "        rootNode = newNode\n",
    "    else:\n",
    "        customQueue = queue.Queue()\n",
    "        customQueue.enqueue(rootNode)\n",
    "        while not(customQueue.isEmpty()):\n",
    "            root = customQueue.dequeue()\n",
    "            if root.value.leftChild is not None:\n",
    "                customQueue.enqueue(root.value.leftChild)\n",
    "            else:\n",
    "                root.value.leftChild = newNode\n",
    "                return \"Successfully Inserted\"\n",
    "            if root.value.rightChild is not None:\n",
    "                customQueue.enqueue(root.value.rightChild)\n",
    "            else:\n",
    "                root.value.rightChild = newNode\n",
    "                return \"Successfully Inserted\""
   ]
  },
  {
   "cell_type": "code",
   "execution_count": null,
   "metadata": {},
   "outputs": [],
   "source": [
    "newNode=TreeNode('Cola')\n",
    "print(insertNodeBT(newBT,newNode))"
   ]
  },
  {
   "cell_type": "code",
   "execution_count": null,
   "metadata": {},
   "outputs": [],
   "source": [
    "levelOrderTraversal(newBT)"
   ]
  },
  {
   "cell_type": "markdown",
   "metadata": {},
   "source": [
    "## deletion\n",
    "\n",
    "replace the deepest node in binTree in levelOrder traversal with the node which you want to delete, then remove the deepest node from the tree"
   ]
  },
  {
   "cell_type": "code",
   "execution_count": null,
   "metadata": {},
   "outputs": [],
   "source": [
    "def getDeepest(rootNode):\n",
    "    if not rootNode:\n",
    "        return\n",
    "    else:\n",
    "        customQueue = queue.Queue()\n",
    "        customQueue.enqueue(rootNode)\n",
    "        while not(customQueue.isEmpty()):\n",
    "            root = customQueue.dequeue()\n",
    "            if root.value.leftChild is not None:\n",
    "                customQueue.enqueue(root.value.leftChild)\n",
    "            if root.value.rightChild is not None:\n",
    "                customQueue.enqueue(root.value.rightChild)\n",
    "        deepestNode=root.value\n",
    "        return deepestNode\n",
    "        \n",
    "    "
   ]
  },
  {
   "cell_type": "code",
   "execution_count": null,
   "metadata": {},
   "outputs": [],
   "source": [
    "a=getDeepest(newBT)\n",
    "print(a.data)"
   ]
  },
  {
   "cell_type": "code",
   "execution_count": null,
   "metadata": {},
   "outputs": [],
   "source": [
    "def deleteDeepestNode(rootNode, dNode):\n",
    "    if not rootNode:\n",
    "        return\n",
    "    else:\n",
    "        customQueue = queue.Queue()\n",
    "        customQueue.enqueue(rootNode)\n",
    "        while not(customQueue.isEmpty()):\n",
    "            root = customQueue.dequeue()\n",
    "            if root.value is dNode:\n",
    "                root.value=None\n",
    "                return\n",
    "            \n",
    "                \n",
    "            if root.value.rightChild:\n",
    "                if root.value.rightChild is dNode:\n",
    "                    root.value.rightChild=None\n",
    "                    return\n",
    "                else:\n",
    "                    customQueue.enqueue(root.value.rightChild)\n",
    "            if root.value.leftChild:\n",
    "                if root.value.leftChild is dNode:\n",
    "                    root.value.leftChild=None\n",
    "                    return\n",
    "                else:\n",
    "                    customQueue.enqueue(root.value.leftChild)\n",
    "     "
   ]
  },
  {
   "cell_type": "code",
   "execution_count": null,
   "metadata": {},
   "outputs": [],
   "source": [
    "deepNode=getDeepest(newBT)\n",
    "deleteDeepestNode(newBT,deepNode)\n",
    "levelOrderTraversal(newBT)"
   ]
  },
  {
   "cell_type": "code",
   "execution_count": null,
   "metadata": {},
   "outputs": [],
   "source": [
    "def deleteNodeBT(rootNode,node):\n",
    "    if not rootNode:\n",
    "        return\n",
    "    else:\n",
    "        customQueue = queue.Queue()\n",
    "        customQueue.enqueue(rootNode)\n",
    "        while not(customQueue.isEmpty()):\n",
    "            root=customQueue.dequeue()\n",
    "            if root.value.data==node:\n",
    "                dNode=getDeepest(rootNode)\n",
    "                root.value.data= dNode.data\n",
    "                deleteDeepestNode(rootNode,dNode)\n",
    "                return 'deleted'\n",
    "            if (root.value.leftChild is not None):\n",
    "                customQueue.enqueue(root.value.leftChild)\n",
    "            \n",
    "            if (root.value.rightChild is not None):\n",
    "                customQueue.enqueue(root.value.rightChild)\n",
    "        return 'failed:not found'\n",
    "                "
   ]
  },
  {
   "cell_type": "code",
   "execution_count": null,
   "metadata": {},
   "outputs": [],
   "source": [
    "deleteNodeBT(newBT,'Tea')"
   ]
  },
  {
   "cell_type": "code",
   "execution_count": null,
   "metadata": {},
   "outputs": [],
   "source": [
    "def deleteBT(rootNode):\n",
    "    rootNode.value=None\n",
    "    rootNode.leftChild=None\n",
    "    rootNode.rightChild=None"
   ]
  },
  {
   "cell_type": "markdown",
   "metadata": {},
   "source": [
    "# BT by List\n",
    "\n",
    "we will skip 0th index for the easy implementation"
   ]
  },
  {
   "cell_type": "code",
   "execution_count": 19,
   "metadata": {},
   "outputs": [
    {
     "data": {
      "text/plain": [
       "'succesfully inserted'"
      ]
     },
     "execution_count": 19,
     "metadata": {},
     "output_type": "execute_result"
    }
   ],
   "source": [
    "class BinaryTree:\n",
    "    def __init__(self, size):\n",
    "        self.customList=size*[None]\n",
    "        self.lastUsedIndex=0 #used to keep track of last inserted index so that we can continue next\n",
    "        self.maxSize=size\n",
    "    \n",
    "    def insertNode(self, value):\n",
    "        if self.lastUsedIndex +1 == self.maxSize:\n",
    "            return 'full'\n",
    "        self.customList[self.lastUsedIndex+1] = value\n",
    "        self.lastUsedIndex+=1\n",
    "        return 'succesfully inserted'\n",
    "    \n",
    "    def searchNode(self, nodeValue):\n",
    "        for node in self.customList:\n",
    "            if node==nodeValue:\n",
    "                return 'found'\n",
    "        return ' not found' \n",
    "    \n",
    "    def preOrderTraversal(self,index):# index is usd as root node in case of linked list implementation \n",
    "        if index > self.lastUsedIndex:\n",
    "            return\n",
    "        \n",
    "        print(self.customList[index])\n",
    "        self.preOrderTraversal(index*2)\n",
    "        self.preOrderTraversal(index*2 +1)\n",
    "    \n",
    "    def inOrderTraversal(self,index):# index is usd as root node in case of linked list implementation \n",
    "        if index > self.lastUsedIndex:\n",
    "            return\n",
    "        \n",
    "        \n",
    "        self.inOrderTraversal(index*2)\n",
    "        print(self.customList[index])\n",
    "        self.inOrderTraversal(index*2 +1)\n",
    "    \n",
    "    def postOrderTraversal(self,index):# index is usd as root node in case of linked list implementation \n",
    "        if index > self.lastUsedIndex:\n",
    "            return\n",
    "        \n",
    "        print(self.customList[index])\n",
    "        self.postOrderTraversal(index*2)\n",
    "        self.postOrderTraversal(index*2 +1)\n",
    "    \n",
    "    def levelOrderTraversal(self,index):\n",
    "        for i in range (index, self.lastUsedIndex+1):\n",
    "            print(self.customList[i])\n",
    "            \n",
    "    def deleteNode(self , value):\n",
    "        if self.lastUsedIndex==0:\n",
    "            return 'empty'\n",
    "        for i in range (1, self.lastUsedIndex+1):\n",
    "            if self.customList[i]==value:\n",
    "                self.customList[i]=self.customList[self.lastUsedIndex]\n",
    "                self.customList[self.lastUsedIndex]=None\n",
    "                self.lastUsedIndex-=1\n",
    "                return 'deleted'\n",
    "            \n",
    "                \n",
    "        \n",
    "        \n",
    "                \n",
    "                \n",
    "            \n",
    "        \n",
    "newBt=BinaryTree(8)\n",
    "newBt.insertNode('Drinks')\n",
    "newBt.insertNode('Hot')\n",
    "newBt.insertNode('Cold')\n",
    "newBt.insertNode('Tea')\n",
    "newBt.insertNode('Coffee')\n",
    "\n",
    "            \n",
    "        \n",
    "    "
   ]
  },
  {
   "cell_type": "code",
   "execution_count": 20,
   "metadata": {},
   "outputs": [
    {
     "name": "stdout",
     "output_type": "stream",
     "text": [
      "Drinks\n",
      "Hot\n",
      "Cold\n",
      "Tea\n",
      "Coffee\n"
     ]
    }
   ],
   "source": [
    "newBt.levelOrderTraversal(1)"
   ]
  },
  {
   "cell_type": "code",
   "execution_count": 21,
   "metadata": {},
   "outputs": [
    {
     "name": "stdout",
     "output_type": "stream",
     "text": [
      "Drinks\n",
      "Coffee\n",
      "Cold\n",
      "Tea\n"
     ]
    }
   ],
   "source": [
    "newBt.deleteNode('Hot')\n",
    "newBt.levelOrderTraversal(1)"
   ]
  },
  {
   "cell_type": "markdown",
   "metadata": {},
   "source": [
    "### recurtion is like brother of BT,  must try in case of BT"
   ]
  },
  {
   "cell_type": "code",
   "execution_count": null,
   "metadata": {},
   "outputs": [],
   "source": []
  }
 ],
 "metadata": {
  "kernelspec": {
   "display_name": "Python 3",
   "language": "python",
   "name": "python3"
  },
  "language_info": {
   "codemirror_mode": {
    "name": "ipython",
    "version": 3
   },
   "file_extension": ".py",
   "mimetype": "text/x-python",
   "name": "python",
   "nbconvert_exporter": "python",
   "pygments_lexer": "ipython3",
   "version": "3.7.6"
  }
 },
 "nbformat": 4,
 "nbformat_minor": 4
}
