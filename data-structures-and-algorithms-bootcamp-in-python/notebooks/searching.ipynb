{
 "cells": [
  {
   "cell_type": "code",
   "execution_count": 1,
   "metadata": {},
   "outputs": [
    {
     "name": "stdout",
     "output_type": "stream",
     "text": [
      "4\n"
     ]
    }
   ],
   "source": [
    "\n",
    "\n",
    "def linearSearch(array, value):\n",
    "    for i in range(len(array)):\n",
    "        if array[i] == value:\n",
    "            return i\n",
    "    return -1\n",
    "\n",
    "\n",
    "\n",
    "print(linearSearch([20,40,30,50,90], 90))"
   ]
  },
  {
   "cell_type": "code",
   "execution_count": 4,
   "metadata": {},
   "outputs": [
    {
     "name": "stdout",
     "output_type": "stream",
     "text": [
      "3\n"
     ]
    }
   ],
   "source": [
    "import math\n",
    "def binarySearch(array, value):\n",
    "    start = 0\n",
    "    end = len(array)-1\n",
    "    middle = math.floor((start+end)/2)\n",
    "    while not(array[middle]==value) and start<=end:\n",
    "        if value < array[middle]:\n",
    "            end = middle - 1\n",
    "        else:\n",
    "            start = middle + 1 \n",
    "        middle = math.floor((start+end)/2)\n",
    "        # print(start, middle, end)\n",
    "    if array[middle] == value:\n",
    "        return middle\n",
    "    else:\n",
    "        return -1\n",
    "print(binarySearch([20,40,30,50,90], 50))"
   ]
  },
  {
   "cell_type": "code",
   "execution_count": null,
   "metadata": {},
   "outputs": [],
   "source": []
  }
 ],
 "metadata": {
  "kernelspec": {
   "display_name": "Python 3",
   "language": "python",
   "name": "python3"
  },
  "language_info": {
   "codemirror_mode": {
    "name": "ipython",
    "version": 3
   },
   "file_extension": ".py",
   "mimetype": "text/x-python",
   "name": "python",
   "nbconvert_exporter": "python",
   "pygments_lexer": "ipython3",
   "version": "3.7.6"
  }
 },
 "nbformat": 4,
 "nbformat_minor": 4
}
