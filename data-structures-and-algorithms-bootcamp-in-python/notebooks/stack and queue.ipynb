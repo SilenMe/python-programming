{
 "cells": [
  {
   "cell_type": "markdown",
   "metadata": {},
   "source": [
    "# stack lifo"
   ]
  },
  {
   "cell_type": "markdown",
   "metadata": {},
   "source": [
    "## using list, fixed sized list and Linklists(helps in big sized stack ie in OS)"
   ]
  },
  {
   "cell_type": "code",
   "execution_count": 12,
   "metadata": {},
   "outputs": [],
   "source": [
    "class Stack:\n",
    "    def __init__(self):\n",
    "        self.list=[]\n",
    "        \n",
    "    def __str__(self):\n",
    "        v=self.list.reverse()\n",
    "        v=[str(x) for x in self.list]\n",
    "        return '\\n'.join(v)\n",
    "    \n",
    "    def isEmpty(self):\n",
    "        if self.list==[]:\n",
    "            return True\n",
    "        else:\n",
    "            return False\n",
    "        \n",
    "    def push(self,n):\n",
    "        self.list.append(n)\n",
    "        \n",
    "    def pop(self):\n",
    "        if self.isEmpty():\n",
    "            return \"empty\"\n",
    "        else:\n",
    "            return self.list.pop()\n",
    "    \n",
    "    def delete(self):\n",
    "        self.list=None\n",
    "    \n",
    "    \n"
   ]
  },
  {
   "cell_type": "code",
   "execution_count": 13,
   "metadata": {},
   "outputs": [
    {
     "name": "stdout",
     "output_type": "stream",
     "text": [
      "0\n",
      "7\n",
      "5\n",
      "1\n"
     ]
    }
   ],
   "source": [
    "s=Stack()\n",
    "s.push(1)\n",
    "s.push(5)\n",
    "s.push(7)\n",
    "s.push(0)\n",
    "s.push(5)\n",
    "s.pop()\n",
    "print(s)"
   ]
  },
  {
   "cell_type": "markdown",
   "metadata": {},
   "source": [
    "## stack with limited size"
   ]
  },
  {
   "cell_type": "code",
   "execution_count": 19,
   "metadata": {},
   "outputs": [],
   "source": [
    "class Stack:\n",
    "    def __init__(self, maxSize):\n",
    "        self.maxSize=maxSize\n",
    "        self.list=[]\n",
    "    \n",
    "    def __str__(self):\n",
    "        v=self.list.reverse()\n",
    "        v=[str(x) for x in self.list]\n",
    "        return '\\n'.join(v)\n",
    "    \n",
    "    def isEmpty(self):\n",
    "        if self.list==[]:\n",
    "            return True\n",
    "        else:\n",
    "            return False\n",
    "    \n",
    "    def isFull(self):\n",
    "        if len(self.list)==self.maxSize:\n",
    "            return True\n",
    "        else:\n",
    "            return False\n",
    "    \n",
    "        \n",
    "    def push(self,n):\n",
    "        if self.isFull():\n",
    "            return 'full'\n",
    "        else:\n",
    "            self.list.append(n)\n",
    "        \n",
    "    def pop(self):\n",
    "        if self.isEmpty():\n",
    "            return \"empty\"\n",
    "        else:\n",
    "            return self.list.pop()\n",
    "    \n",
    "    def delete(self):\n",
    "        self.list=None\n",
    "    \n",
    "    \n"
   ]
  },
  {
   "cell_type": "code",
   "execution_count": 21,
   "metadata": {},
   "outputs": [
    {
     "data": {
      "text/plain": [
       "True"
      ]
     },
     "execution_count": 21,
     "metadata": {},
     "output_type": "execute_result"
    }
   ],
   "source": [
    "s=Stack(4)\n",
    "s.isEmpty()"
   ]
  },
  {
   "cell_type": "code",
   "execution_count": 22,
   "metadata": {},
   "outputs": [
    {
     "data": {
      "text/plain": [
       "False"
      ]
     },
     "execution_count": 22,
     "metadata": {},
     "output_type": "execute_result"
    }
   ],
   "source": [
    "s.isFull()"
   ]
  },
  {
   "cell_type": "code",
   "execution_count": 23,
   "metadata": {},
   "outputs": [],
   "source": [
    "s.push(2)\n",
    "s.push(6)\n",
    "s.push(4)"
   ]
  },
  {
   "cell_type": "code",
   "execution_count": 25,
   "metadata": {},
   "outputs": [
    {
     "name": "stdout",
     "output_type": "stream",
     "text": [
      "4\n",
      "6\n",
      "2\n"
     ]
    }
   ],
   "source": [
    "print(s)"
   ]
  },
  {
   "cell_type": "markdown",
   "metadata": {},
   "source": [
    "## using link list\n",
    "only head is needed not tail"
   ]
  },
  {
   "cell_type": "code",
   "execution_count": 29,
   "metadata": {},
   "outputs": [],
   "source": [
    "class Node:\n",
    "    def __init__(self,value=None):\n",
    "        self.value=value\n",
    "        self.next=None\n",
    "\n",
    "class linkedList:\n",
    "    def __init__(self,value=None):\n",
    "        \n",
    "        self.head=None\n",
    "    def __iter__(self):\n",
    "        curNode=self.head\n",
    "        while curNode: #bz we have to yield last node too\n",
    "            yield curNode \n",
    "            curNode=curNode.next\n",
    "\n",
    "class Stack:\n",
    "    def __init__(self):\n",
    "        self.linkedList=linkedList()\n",
    "    \n",
    "    def __str__(self):\n",
    "        v=[str(x.value) for x in self.linkedList]\n",
    "        return '\\n'.join(v)\n",
    "    \n",
    "    def isEmpty(self):\n",
    "        if self.linkedList.head == None:\n",
    "            return True\n",
    "        else:\n",
    "            return False\n",
    "    \n",
    "        \n",
    "    def push(self,value):\n",
    "        node=Node(value)\n",
    "        node.next=self.linkedList.head\n",
    "        self.linkedList.head=node\n",
    "        \n",
    "        \n",
    "    def pop(self):\n",
    "        if self.isEmpty():\n",
    "            return \"empty\"\n",
    "        else:\n",
    "            nodeVal=self.linkedList.head.value\n",
    "            self.linkedList.head=self.linkedList.head.next\n",
    "            return nodeVal\n",
    "    \n",
    "    def delete(self):\n",
    "        self.linkedList.head=None\n",
    "    \n",
    "        \n",
    "        \n",
    "    "
   ]
  },
  {
   "cell_type": "code",
   "execution_count": 30,
   "metadata": {},
   "outputs": [
    {
     "name": "stdout",
     "output_type": "stream",
     "text": [
      "True\n",
      "10\n",
      "6\n",
      "5\n",
      "---\n",
      "6\n",
      "5\n",
      "----\n",
      "\n"
     ]
    }
   ],
   "source": [
    "s=Stack()\n",
    "print(s.isEmpty())\n",
    "s.push(5)\n",
    "s.push(6)\n",
    "s.push(10)\n",
    "print(s)\n",
    "s.pop()\n",
    "print('---')\n",
    "print(s)\n",
    "s.delete()\n",
    "print('----')\n",
    "print(s)"
   ]
  },
  {
   "cell_type": "markdown",
   "metadata": {},
   "source": [
    "### use only for lifo"
   ]
  },
  {
   "cell_type": "markdown",
   "metadata": {},
   "source": [
    "# queue\n",
    "## list: queue and circular queue\n",
    "## linkedlist: queue\n"
   ]
  },
  {
   "cell_type": "code",
   "execution_count": 1,
   "metadata": {},
   "outputs": [
    {
     "name": "stdout",
     "output_type": "stream",
     "text": [
      "1 2 3\n",
      "1\n",
      "1 2 3\n"
     ]
    }
   ],
   "source": [
    "#   Created by Elshad Karimov on 30/05/2020.\n",
    "#   Copyright © 2020 AppMillers. All rights reserved.\n",
    "\n",
    "\n",
    "class Node:\n",
    "    def __init__(self, value=None):\n",
    "        self.value = value\n",
    "        self.next = None\n",
    "    \n",
    "    def __str__(self):\n",
    "        return str(self.value)\n",
    "\n",
    "class LinkedList:\n",
    "    def __init__(self):\n",
    "        self.head = None\n",
    "        self.tail = None\n",
    "    \n",
    "    def __iter__(self):\n",
    "        curNode = self.head\n",
    "        while curNode:\n",
    "            yield curNode\n",
    "            curNode = curNode.next\n",
    "\n",
    "class Queue:\n",
    "    def __init__(self):\n",
    "        self.linkedList = LinkedList()\n",
    "    \n",
    "    def __str__(self):\n",
    "        values = [str(x) for x in self.linkedList]\n",
    "        return ' '.join(values)\n",
    "    \n",
    "    def enqueue(self, value):\n",
    "        newNode = Node(value)\n",
    "        if self.linkedList.head == None:\n",
    "            self.linkedList.head = newNode\n",
    "            self.linkedList.tail = newNode\n",
    "        else:\n",
    "            self.linkedList.tail.next = newNode\n",
    "            self.linkedList.tail = newNode\n",
    "    \n",
    "    def isEmpty(self):\n",
    "        if self.linkedList.head == None:\n",
    "            return True\n",
    "        else:\n",
    "            return False\n",
    "    \n",
    "    def dequeue(self):\n",
    "        if self.isEmpty():\n",
    "            return \"There is not any node in the Queue\"\n",
    "        else:\n",
    "            tempNode = self.linkedList.head\n",
    "            if self.linkedList.head == self.linkedList.tail:\n",
    "                self.linkedList.head = None\n",
    "                self.linkedList.tail = None\n",
    "            else:\n",
    "                self.linkedList.head = self.linkedList.head.next\n",
    "            return tempNode\n",
    "    \n",
    "    def peek(self):\n",
    "        if self.isEmpty():\n",
    "            return \"There is not any node in the Queue\"\n",
    "        else:\n",
    "            return self.linkedList.head\n",
    "    \n",
    "    def delete(self):\n",
    "        self.linkedList.head = None\n",
    "        self.linkedList.tail = None\n",
    "\n",
    "\n",
    "\n",
    "\n",
    "custQueue = Queue()\n",
    "custQueue.enqueue(1)\n",
    "custQueue.enqueue(2)\n",
    "custQueue.enqueue(3)\n",
    "print(custQueue)\n",
    "print(custQueue.peek())\n",
    "print(custQueue)"
   ]
  },
  {
   "cell_type": "markdown",
   "metadata": {},
   "source": [
    "## queue using collection module, queue module and multiprocessing module\n",
    "1. from collection import deque\n",
    "\n",
    "2. fifo queue, lifo queue- stack and priority queue\n",
    "\n",
    "3. used for sharing data among threads\n",
    "\n",
    "### read documentation for more"
   ]
  },
  {
   "cell_type": "markdown",
   "metadata": {},
   "source": [
    "# question section\n",
    "\n",
    "1. 3 in 1 (3 stacks in 1 list)"
   ]
  },
  {
   "cell_type": "code",
   "execution_count": null,
   "metadata": {},
   "outputs": [],
   "source": [
    " "
   ]
  }
 ],
 "metadata": {
  "kernelspec": {
   "display_name": "Python 3",
   "language": "python",
   "name": "python3"
  },
  "language_info": {
   "codemirror_mode": {
    "name": "ipython",
    "version": 3
   },
   "file_extension": ".py",
   "mimetype": "text/x-python",
   "name": "python",
   "nbconvert_exporter": "python",
   "pygments_lexer": "ipython3",
   "version": "3.7.6"
  }
 },
 "nbformat": 4,
 "nbformat_minor": 4
}
