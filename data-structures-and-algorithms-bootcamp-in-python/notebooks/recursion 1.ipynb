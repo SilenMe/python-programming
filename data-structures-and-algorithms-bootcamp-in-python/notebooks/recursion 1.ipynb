{
 "cells": [
  {
   "cell_type": "code",
   "execution_count": 5,
   "metadata": {},
   "outputs": [],
   "source": [
    "def power(base, exponent):\n",
    "    assert base!=0 and exponent>=0, 'not posiible' #unintenstional input\n",
    "    if exponent==0:\n",
    "        return 1\n",
    "    else:\n",
    "        \n",
    "        return base*power(base, exponent-1)"
   ]
  },
  {
   "cell_type": "markdown",
   "metadata": {},
   "source": [
    "## euclidean algo for gcd: \n",
    "remainder or a and b is also devisible by the gcd"
   ]
  },
  {
   "cell_type": "code",
   "execution_count": 11,
   "metadata": {},
   "outputs": [],
   "source": [
    "def gcd(a,b):\n",
    "    assert int(a)==a and int(b)==b, 'must be integer'\n",
    "    assert a!=0 and b!=0, 'must not be zero'\n",
    "    \n",
    "    if a<0:\n",
    "        a=a*(-1)\n",
    "    if b<0:\n",
    "        b=b*(-1)    \n",
    "    if a%b==0:\n",
    "        return b\n",
    "    else:\n",
    "        return gcd(b,a%b)"
   ]
  },
  {
   "cell_type": "markdown",
   "metadata": {},
   "source": [
    "## to binary"
   ]
  },
  {
   "cell_type": "code",
   "execution_count": null,
   "metadata": {},
   "outputs": [],
   "source": [
    "#not executable\n",
    "def toBin(num):\n",
    "    return n%2 + 10*toBin(int(n/2))"
   ]
  }
 ],
 "metadata": {
  "kernelspec": {
   "display_name": "Python 3",
   "language": "python",
   "name": "python3"
  },
  "language_info": {
   "codemirror_mode": {
    "name": "ipython",
    "version": 3
   },
   "file_extension": ".py",
   "mimetype": "text/x-python",
   "name": "python",
   "nbconvert_exporter": "python",
   "pygments_lexer": "ipython3",
   "version": "3.7.6"
  }
 },
 "nbformat": 4,
 "nbformat_minor": 4
}
