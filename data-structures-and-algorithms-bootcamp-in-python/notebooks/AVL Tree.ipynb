{
 "cells": [
  {
   "cell_type": "code",
   "execution_count": 4,
   "metadata": {},
   "outputs": [],
   "source": [
    "class AVLNode:\n",
    "    def __init__(self,data=None):\n",
    "        self.data=data\n",
    "        self.leftChild=None\n",
    "        self.rightChild=None\n",
    "        self.height=1 #to keep it balenced\n",
    "        \n",
    "            \n",
    "        \n"
   ]
  },
  {
   "cell_type": "markdown",
   "metadata": {},
   "source": [
    "### insertion \n",
    "FOUR CONDITIONS ARE AS CONFIGURATION WITH UNBALENCED NODE:\n",
    "\n",
    "LL: RIGHT ROTATION NEEDED AROUND DISBALENCED NODE\n",
    "\n",
    "LR: FIRST LEFT ROTATION THEN RIGHT ROTATION : LR, FIRST ROTATION IS AROUND CHILD OF DISBALNCED NODE AND SECOND ROTOTION IS AROUND DISBALENCED NODE ITSELF\n",
    "\n",
    "RL: FIRST right ROTATION THEN LEFT ROTATION : LR, FIRST ROTATION IS AROUND CHILD OF DISBALNCED NODE AND SECOND ROTOTION IS AROUND DISBALENCED NODE ITSELF\n",
    "\n",
    "RR: left rotation is required"
   ]
  },
  {
   "cell_type": "code",
   "execution_count": 9,
   "metadata": {},
   "outputs": [],
   "source": [
    "def getHeight(rootNode):\n",
    "    if not rootNode:\n",
    "        return 0\n",
    "    return rootNode.height # look at init function\n",
    "def rightRotate(disbalanceNode):\n",
    "    newRoot = disbalanceNode.leftChild\n",
    "    disbalanceNode.leftChild=disbalanceNode.leftChild.rightChild\n",
    "    newRoot.rightChild=disbalanceNode\n",
    "    disbalanceNode.height=1+max(getHeight(disbalanceNode.leftChild),getHeight(disbalanceNode.rightChild))\n",
    "    newRoot.height=1+max(getHeight(newRoot.leftChild),getHeight(newRoot.rightChild))\n",
    "    return newRoot\n",
    "\n",
    "def leftRotate(disbalanceNode):\n",
    "    newRoot = disbalanceNode.rightChild\n",
    "    disbalanceNode.rightChild=disbalanceNode.rightChild.leftChild\n",
    "    newRoot.leftChild=disbalanceNode\n",
    "    disbalanceNode.height=1+max(getHeight(disbalanceNode.leftChild),getHeight(disbalanceNode.rightChild))\n",
    "    newRoot.height=1+max(getHeight(newRoot.leftChild),getHeight(newRoot.rightChild))\n",
    "    return newRoot\n",
    "\n",
    "def getBalance(rootNode):\n",
    "    if not rootNode:\n",
    "        return 0\n",
    "    return getHeight(rootNode.leftChild)-getHeight(rootNode.rightChild)\n",
    "\n",
    "def insertNode(rootNode, nodeValue):\n",
    "    if not rootNode:\n",
    "        return AVLNode(nodeValue)\n",
    "    elif nodeValue<=rootNode.data:\n",
    "        rootNode.leftChild=insertNode(rootNode.leftChild,nodeValue)\n",
    "    else:\n",
    "        rootNode.rightChild=insertNode(rootNode.rightChild,nodeValue)\n",
    "    \n",
    "    #code for indentification of cases ie LL LLR RL RR\n",
    "    rootNode.height=1+max(getHeight(rootNode.leftChild),getHeight(rootNode.rightChild))\n",
    "    balance=getBalance(rootNode)\n",
    "    if balance>1 and nodeValue<rootNode.leftChild.data: #L L condition\n",
    "        return rightRotate(rootNode)\n",
    "    if balance>1 and nodeValue>rootNode.leftChild.data: #L R condition\n",
    "        rootNode.leftChild = leftRotate(rootNode.leftChild)\n",
    "        return rightRotate(rootNode)\n",
    "    if balance<-1 and nodeValue>rootNode.rightChild.data: #L L condition\n",
    "        return leftRotate(rootNode)\n",
    "    if balance<-1 and nodeValue<rootNode.rightChild.data: #L R condition\n",
    "        rootNode.rightChild = rightRotate(rootNode.rightChild)\n",
    "        return leftRotate(rootNode)\n",
    "    return rootNode\n",
    "    \n",
    "    \n",
    "    \n",
    "    \n",
    "    "
   ]
  },
  {
   "cell_type": "code",
   "execution_count": 13,
   "metadata": {},
   "outputs": [],
   "source": [
    "newAVL=AVLNode(5)\n",
    "newAVL=insertNode(newAVL, 10) # it is like doing a=5 to a=3, means we are replacing newAVL with a new newAVL with one extra node\n",
    "newAVL=insertNode(newAVL, 15) #EXCHANGING\n",
    "newAVL=insertNode(newAVL, 20)\n"
   ]
  },
  {
   "cell_type": "code",
   "execution_count": 14,
   "metadata": {},
   "outputs": [],
   "source": [
    "def preOrderTraversal(rootNode):\n",
    "    if not rootNode:\n",
    "        return\n",
    "    print(rootNode.data)\n",
    "    preOrderTraversal(rootNode.leftChild)\n",
    "    preOrderTraversal(rootNode.rightChild)\n",
    "    \n",
    "    "
   ]
  },
  {
   "cell_type": "code",
   "execution_count": 15,
   "metadata": {},
   "outputs": [
    {
     "name": "stdout",
     "output_type": "stream",
     "text": [
      "10\n",
      "5\n",
      "15\n",
      "20\n"
     ]
    }
   ],
   "source": [
    "preOrderTraversal(newAVL)"
   ]
  },
  {
   "cell_type": "code",
   "execution_count": 16,
   "metadata": {},
   "outputs": [],
   "source": [
    "def inOrderTraversal(rootNode):\n",
    "    if not rootNode:\n",
    "        return\n",
    "    \n",
    "    inOrderTraversal(rootNode.leftChild)\n",
    "    print(rootNode.data)\n",
    "    inOrderTraversal(rootNode.rightChild)"
   ]
  },
  {
   "cell_type": "code",
   "execution_count": 17,
   "metadata": {},
   "outputs": [
    {
     "name": "stdout",
     "output_type": "stream",
     "text": [
      "5\n",
      "10\n",
      "15\n",
      "20\n"
     ]
    }
   ],
   "source": [
    "inOrderTraversal(newAVL)"
   ]
  },
  {
   "cell_type": "code",
   "execution_count": 18,
   "metadata": {},
   "outputs": [],
   "source": [
    "def postOrderTraversal(rootNode):\n",
    "    if not rootNode:\n",
    "        return\n",
    "    postOrderTraversal(rootNode.leftChild)\n",
    "    \n",
    "    postOrderTraversal(rootNode.rightChild)\n",
    "    print(rootNode.data)"
   ]
  },
  {
   "cell_type": "code",
   "execution_count": 19,
   "metadata": {},
   "outputs": [
    {
     "name": "stdout",
     "output_type": "stream",
     "text": [
      "5\n",
      "20\n",
      "15\n",
      "10\n"
     ]
    }
   ],
   "source": [
    "postOrderTraversal(newAVL)"
   ]
  },
  {
   "cell_type": "markdown",
   "metadata": {},
   "source": [
    "QueueLinkedList.py looks as:\n",
    "\n",
    "\n",
    "\n",
    "class Node:\n",
    "\n",
    "    def __init__(self, value=None):\n",
    "        self.value = value\n",
    "        self.next = None\n",
    "    \n",
    "    def __str__(self):\n",
    "        return str(self.value)\n",
    "\n",
    "class LinkedList:\n",
    "\n",
    "    def __init__(self):\n",
    "        self.head = None\n",
    "        self.tail = None\n",
    "    \n",
    "    def __iter__(self):\n",
    "        curNode = self.head\n",
    "        while curNode:\n",
    "            yield curNode\n",
    "            curNode = curNode.next\n",
    "\n",
    "class Queue:\n",
    "\n",
    "    def __init__(self):\n",
    "        self.linkedList = LinkedList()\n",
    "    \n",
    "    def __str__(self):\n",
    "        values = [str(x) for x in self.linkedList]\n",
    "        return ' '.join(values)\n",
    "    \n",
    "    def enqueue(self, value):\n",
    "        newNode = Node(value)\n",
    "        if self.linkedList.head == None:\n",
    "            self.linkedList.head = newNode\n",
    "            self.linkedList.tail = newNode\n",
    "        else:\n",
    "            self.linkedList.tail.next = newNode\n",
    "            self.linkedList.tail = newNode\n",
    "    \n",
    "    def isEmpty(self):\n",
    "        if self.linkedList.head == None:\n",
    "            return True\n",
    "        else:\n",
    "            return False\n",
    "    \n",
    "    def dequeue(self):\n",
    "        if self.isEmpty():\n",
    "            return \"There is not any node in the Queue\"\n",
    "        else:\n",
    "            tempNode = self.linkedList.head\n",
    "            if self.linkedList.head == self.linkedList.tail:\n",
    "                self.linkedList.head = None\n",
    "                self.linkedList.tail = None\n",
    "            else:\n",
    "                self.linkedList.head = self.linkedList.head.next\n",
    "            return tempNode\n",
    "    \n",
    "    def peek(self):\n",
    "        if self.isEmpty():\n",
    "            return \"There is not any node in the Queue\"\n",
    "        else:\n",
    "            return self.linkedList.head\n",
    "    \n",
    "    def delete(self):\n",
    "        self.linkedList.head = None\n",
    "        self.linkedList.tail = None\n",
    "\n",
    "\n",
    "\n"
   ]
  },
  {
   "cell_type": "code",
   "execution_count": 20,
   "metadata": {},
   "outputs": [],
   "source": [
    "import QueueLinkedList as queue\n",
    "def levelOrderTraversal(rootNode):\n",
    "    if not rootNode:\n",
    "        return\n",
    "    else:\n",
    "        customQueue=queue.Queue()\n",
    "        customQueue.enqueue(rootNode)\n",
    "        while not(customQueue.isEmpty()):\n",
    "            root=customQueue.dequeue()\n",
    "            print(root.value.data)\n",
    "            if root.value.leftChild is not None:\n",
    "                customQueue.enqueue(root.value.leftChild)\n",
    "            if root.value.rightChild is not None:\n",
    "                customQueue.enqueue(root.value.rightChild)\n",
    "            \n",
    "            \n",
    "            \n",
    "        \n",
    "        "
   ]
  },
  {
   "cell_type": "code",
   "execution_count": 21,
   "metadata": {},
   "outputs": [
    {
     "name": "stdout",
     "output_type": "stream",
     "text": [
      "10\n",
      "5\n",
      "15\n",
      "20\n"
     ]
    }
   ],
   "source": [
    "levelOrderTraversal(newAVL)"
   ]
  },
  {
   "cell_type": "code",
   "execution_count": 11,
   "metadata": {},
   "outputs": [],
   "source": [
    "def search(rootNode,nodeValue):\n",
    "    if rootNode.data==nodeValue:\n",
    "        print('found')\n",
    "    elif nodeValue<rootNode.data:\n",
    "        if rootNode.leftChild.data==nodeValue:\n",
    "            print('found')\n",
    "        else:\n",
    "            \n",
    "            search(rootNode.leftChild,nodeValue)\n",
    "    else :\n",
    "        if rootNode.rightChild.data==nodeValue:\n",
    "            print('found')\n",
    "        else:\n",
    "            \n",
    "            search(rootNode.rightChild,nodeValue)\n",
    "    "
   ]
  },
  {
   "cell_type": "code",
   "execution_count": 12,
   "metadata": {},
   "outputs": [
    {
     "name": "stdout",
     "output_type": "stream",
     "text": [
      "found\n"
     ]
    }
   ],
   "source": [
    "search(newBST,50)"
   ]
  },
  {
   "cell_type": "markdown",
   "metadata": {},
   "source": [
    "## delete\n",
    "3 cases\n",
    "\n",
    "1. no child\n",
    "2. one child\n",
    "3. two childs , needs successure which is least in right or max in left"
   ]
  },
  {
   "cell_type": "markdown",
   "metadata": {},
   "source": [
    "the min value method will be different bz of deletion ie maybe the node get deleted itself"
   ]
  },
  {
   "cell_type": "code",
   "execution_count": 22,
   "metadata": {},
   "outputs": [],
   "source": [
    "def getMinValueNode(rootNode):\n",
    "    if rootNode is None or rootNode.leftChild is None:\n",
    "        return rootNode\n",
    "    return getMinValueNode(rootNode.leftChild)#just bz of a=3 to a=5 method"
   ]
  },
  {
   "cell_type": "code",
   "execution_count": 23,
   "metadata": {},
   "outputs": [],
   "source": [
    "def deleteNode(rootNode,nodeValue):\n",
    "    if rootNode is None:\n",
    "        return rootNode\n",
    "    \n",
    "    if nodeValue<rootNode.data:\n",
    "        rootNode.leftChild=deleteNode(rootNode.leftChild,nodeValue)\n",
    "    elif nodeValue>rootNode.data:\n",
    "        rootNode.rightChild=deleteNode(rootNode.rightChild,nodeValue)\n",
    "    else: #nodeValue==rootNode.data\n",
    "        if rootNode.rightChild is None: # it also covers no child case\n",
    "            temp=rootNode.leftChild\n",
    "            rootNode=None\n",
    "            return temp # this temp will be returned and added as rootNode.child for the previous parent\n",
    "                \n",
    "        if rootNode.leftChild is None:\n",
    "            temp=rootNode.rightChild\n",
    "            rootNode=None\n",
    "            return temp # this temp will be returned and added as rootNode.child for the previous parent\n",
    "            \n",
    "            \n",
    "        temp=minValueNode(rootNode.rightChild)\n",
    "        rootNode.data=temp.data\n",
    "        rootNode.rightChild = deleteNode(rootNode,tempNode.data)\n",
    "        \n",
    "        #now if rotation is required\n",
    "        balance=getBalance(rootNode)\n",
    "        if balance>1 and getBalance(rootNode.leftChild)>=0 : #L L condition\n",
    "            return rightRotate(rootNode)\n",
    "        if balance>1 and getBalance(rootNode.leftChild)<0: #L R condition\n",
    "            rootNode.leftChild = leftRotate(rootNode.leftChild)\n",
    "            return rightRotate(rootNode)\n",
    "        if balance<-1 and getBalance(rootNode.rightChild)<=0: #R R condition\n",
    "            return leftRotate(rootNode)\n",
    "        if balance<-1 and getBalance(rootNode.rightChild)>0: #R L condition\n",
    "            rootNode.rightChild = rightRotate(rootNode.rightChild)\n",
    "            return leftRotate(rootNode)\n",
    "        \n",
    "    return rootNode\n",
    "                \n",
    "                \n",
    "            \n",
    "            \n",
    "        \n",
    "        \n",
    "        "
   ]
  },
  {
   "cell_type": "code",
   "execution_count": 24,
   "metadata": {},
   "outputs": [],
   "source": [
    "newAVL=deleteNode(newAVL , 15)\n"
   ]
  },
  {
   "cell_type": "code",
   "execution_count": 25,
   "metadata": {},
   "outputs": [
    {
     "name": "stdout",
     "output_type": "stream",
     "text": [
      "10\n",
      "5\n",
      "20\n"
     ]
    }
   ],
   "source": [
    "levelOrderTraversal(newAVL)"
   ]
  },
  {
   "cell_type": "code",
   "execution_count": 26,
   "metadata": {},
   "outputs": [],
   "source": [
    "def deleteAVL(rootNode):\n",
    "    rootNode.data=None\n",
    "    rootNode.leftChild=None\n",
    "    rootNode.rightChild=None\n",
    "    return 'entire avl tree is deleted'"
   ]
  },
  {
   "cell_type": "code",
   "execution_count": 27,
   "metadata": {},
   "outputs": [
    {
     "data": {
      "text/plain": [
       "'entire avl tree is deleted'"
      ]
     },
     "execution_count": 27,
     "metadata": {},
     "output_type": "execute_result"
    }
   ],
   "source": [
    "deleteAVL(newAVL)"
   ]
  },
  {
   "cell_type": "code",
   "execution_count": 28,
   "metadata": {},
   "outputs": [
    {
     "name": "stdout",
     "output_type": "stream",
     "text": [
      "None\n"
     ]
    }
   ],
   "source": [
    "levelOrderTraversal(newAVL)"
   ]
  },
  {
   "cell_type": "code",
   "execution_count": null,
   "metadata": {},
   "outputs": [],
   "source": []
  }
 ],
 "metadata": {
  "kernelspec": {
   "display_name": "Python 3",
   "language": "python",
   "name": "python3"
  },
  "language_info": {
   "codemirror_mode": {
    "name": "ipython",
    "version": 3
   },
   "file_extension": ".py",
   "mimetype": "text/x-python",
   "name": "python",
   "nbconvert_exporter": "python",
   "pygments_lexer": "ipython3",
   "version": "3.7.6"
  }
 },
 "nbformat": 4,
 "nbformat_minor": 4
}
