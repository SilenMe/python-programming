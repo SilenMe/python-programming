{
 "cells": [
  {
   "cell_type": "markdown",
   "metadata": {},
   "source": [
    "a binary tree with extra of:\n",
    "1. max min heap\n",
    "2. a complete tree"
   ]
  },
  {
   "cell_type": "markdown",
   "metadata": {},
   "source": [
    "### why binHeap\n",
    "1. prims algo\n",
    "2. heap sort\n",
    "3. priority queue\n",
    "4. insertion in log n and get max min in log n"
   ]
  },
  {
   "cell_type": "markdown",
   "metadata": {},
   "source": [
    "array or reference based implementation"
   ]
  },
  {
   "cell_type": "markdown",
   "metadata": {},
   "source": [
    "using array bz faster and also in case of complete binary tree where LevelOrderTaversal is important using array is better."
   ]
  },
  {
   "cell_type": "code",
   "execution_count": 5,
   "metadata": {},
   "outputs": [],
   "source": [
    "class binaryHeap:\n",
    "    def __init__(self,size):\n",
    "        self.customList=(size+1)*[None]\n",
    "        self.heapSize=0 #like last used index in case of BT, take care in INSERT AND DELETE\n",
    "        self.maxSize=1+size\n",
    "        \n",
    "def peekofHeap(rootNode):\n",
    "    if not rootNote:\n",
    "        return 'empty'\n",
    "    else:\n",
    "        return self.customList[1]\n",
    "def sizeofheap(rootNode):\n",
    "    if not rootNode:\n",
    "        return 0\n",
    "    else:\n",
    "        return rootNode.heapSize \n",
    "\n",
    "# def preOrderTraversal(self,index):# index is usd as root node in case of linked list implementation \n",
    "#     if index > self.lastUsedIndex:\n",
    "#         return\n",
    "        \n",
    "#     print(self.customList[index])\n",
    "#     self.preOrderTraversal(index*2)\n",
    "#     self.preOrderTraversal(index*2 +1)\n",
    "    \n",
    "# def inOrderTraversal(self,index):# index is usd as root node in case of linked list implementation \n",
    "#     if index > self.lastUsedIndex:\n",
    "#         return\n",
    "        \n",
    "        \n",
    "#     self.inOrderTraversal(index*2)\n",
    "#     print(self.customList[index])\n",
    "#     self.inOrderTraversal(index*2 +1)\n",
    "    \n",
    "# def postOrderTraversal(self,index):# index is usd as root node in case of linked list implementation \n",
    "#     if index > self.lastUsedIndex:\n",
    "#         return\n",
    "        \n",
    "#     print(self.customList[index])\n",
    "#     self.postOrderTraversal(index*2)\n",
    "#     self.postOrderTraversal(index*2 +1)\n",
    "    \n",
    "def levelOrderTraversal(rootNode):\n",
    "    if not rootNode:\n",
    "        return\n",
    "    else:\n",
    "        for i in range (1, rootNode.heapSize+1):\n",
    "            print(rootNode.customList[i])\n",
    "            \n",
    "#heapify\n",
    "def heapifyTreeInsert(rootNode,index,heapType): #index of NODE where heapify is needed, heapType: min max\n",
    "    parentIndex=int(index/2)\n",
    "    if index<=1:\n",
    "        return\n",
    "    if heapType=='Min':\n",
    "        if rootNode.customList[index]<rootNode.customList[parentIndex]:\n",
    "            temp = rootNode.customList[index] #swapping using temp\n",
    "            rootNode.customList[index]=rootNode.customList[parentIndex]\n",
    "            rootNode.customList[parentIndex]=temp \n",
    "        heapifyTreeInsert(rootNode,parentIndex,heapType)\n",
    "    elif heapType=='Max':\n",
    "        if rootNode.customList[index]>rootNode.customList[parentIndex]:\n",
    "            temp = rootNode.customList[index] #swapping using temp\n",
    "            rootNode.customList[index]=rootNode.customList[parentIndex]\n",
    "            rootNode.customList[parentIndex]=temp \n",
    "        heapifyTreeInsert(rootNode,parentIndex,heapType)\n",
    "\n",
    "def insertNode(rootNode, nodeValue, heapType):\n",
    "    if rootNode.heapSize +1 == rootNode.maxSize:\n",
    "        return 'full'\n",
    "    rootNode.customList[rootNode.heapSize+1]=nodeValue\n",
    "    rootNode.heapSize+=1\n",
    "    heapifyTreeInsert(rootNode,rootNode.heapSize,heapType)\n",
    "    return 'inserted'\n",
    "  \n",
    "        \n",
    "\n",
    "            \n",
    "    \n",
    "    \n",
    "        \n",
    "        "
   ]
  },
  {
   "cell_type": "code",
   "execution_count": 6,
   "metadata": {},
   "outputs": [
    {
     "name": "stdout",
     "output_type": "stream",
     "text": [
      "5\n",
      "4\n",
      "2\n",
      "1\n"
     ]
    }
   ],
   "source": [
    "newHeap=binaryHeap(5)\n",
    "insertNode(newHeap, 4, 'Max')\n",
    "insertNode(newHeap, 5, 'Max')\n",
    "insertNode(newHeap, 2, 'Max')\n",
    "insertNode(newHeap, 1, 'Max')\n",
    "levelOrderTraversal(newHeap)"
   ]
  },
  {
   "cell_type": "code",
   "execution_count": 7,
   "metadata": {},
   "outputs": [],
   "source": [
    "def heapifyTreeExtract(rootNode, index, heapType):\n",
    "    leftIndex = index * 2\n",
    "    rightIndex = index * 2 + 1\n",
    "    swapChild = 0\n",
    "\n",
    "    if rootNode.heapSize < leftIndex:\n",
    "        return\n",
    "    elif rootNode.heapSize == leftIndex: #one child\n",
    "        if heapType == \"Min\": \n",
    "            if rootNode.customList[index] > rootNode.customList[leftIndex]:\n",
    "                temp = rootNode.customList[index] #swapping\n",
    "                rootNode.customList[index] = rootNode.customList[leftIndex]\n",
    "                rootNode.customList[leftIndex] = temp\n",
    "            return\n",
    "        else:\n",
    "            if rootNode.customList[index] < rootNode.customList[leftIndex]:\n",
    "                temp = rootNode.customList[index]\n",
    "                rootNode.customList[index] = rootNode.customList[leftIndex]\n",
    "                rootNode.customList[leftIndex] = temp\n",
    "            return\n",
    "\n",
    "    else: # 2 children case\n",
    "        if heapType == \"Min\":\n",
    "            if rootNode.customList[leftIndex] < rootNode.customList[rightIndex]: #finding minIndex from children\n",
    "                swapChild = leftIndex\n",
    "            else:\n",
    "                swapChild = rightIndex\n",
    "            if rootNode.customList[index] > rootNode.customList[swapChild]: #swap\n",
    "                temp = rootNode.customList[index]\n",
    "                rootNode.customList[index] = rootNode.customList[swapChild]\n",
    "                rootNode.customList[swapChild] = temp\n",
    "        else:\n",
    "            if rootNode.customList[leftIndex] > rootNode.customList[rightIndex]:\n",
    "                swapChild = leftIndex\n",
    "            else:\n",
    "                swapChild = rightIndex\n",
    "            if rootNode.customList[index] < rootNode.customList[swapChild]:\n",
    "                temp = rootNode.customList[index]\n",
    "                rootNode.customList[index] = rootNode.customList[swapChild]\n",
    "                rootNode.customList[swapChild] = temp\n",
    "    heapifyTreeExtract(rootNode, swapChild, heapType)\n",
    "\n",
    "def extractNode(rootNode, heapType):\n",
    "    if rootNode.heapSize == 0:\n",
    "        return\n",
    "    else:\n",
    "        extractedNode = rootNode.customList[1]\n",
    "        rootNode.customList[1] = rootNode.customList[rootNode.heapSize]\n",
    "        rootNode.customList[rootNode.heapSize] = None\n",
    "        rootNode.heapSize -= 1\n",
    "        heapifyTreeExtract(rootNode, 1, heapType)\n",
    "        return extractedNode\n",
    "\n",
    "def deleteEntireBP(rootNode):\n",
    "    rootNode.customList = None"
   ]
  },
  {
   "cell_type": "code",
   "execution_count": 8,
   "metadata": {},
   "outputs": [
    {
     "data": {
      "text/plain": [
       "5"
      ]
     },
     "execution_count": 8,
     "metadata": {},
     "output_type": "execute_result"
    }
   ],
   "source": [
    "extractNode(newHeap, 'Max')"
   ]
  },
  {
   "cell_type": "code",
   "execution_count": 9,
   "metadata": {},
   "outputs": [
    {
     "name": "stdout",
     "output_type": "stream",
     "text": [
      "4\n",
      "1\n",
      "2\n"
     ]
    }
   ],
   "source": [
    "levelOrderTraversal(newHeap)"
   ]
  },
  {
   "cell_type": "code",
   "execution_count": 10,
   "metadata": {},
   "outputs": [
    {
     "ename": "TypeError",
     "evalue": "'NoneType' object is not subscriptable",
     "output_type": "error",
     "traceback": [
      "\u001b[1;31m---------------------------------------------------------------------------\u001b[0m",
      "\u001b[1;31mTypeError\u001b[0m                                 Traceback (most recent call last)",
      "\u001b[1;32m<ipython-input-10-842568d98885>\u001b[0m in \u001b[0;36m<module>\u001b[1;34m\u001b[0m\n\u001b[0;32m      1\u001b[0m \u001b[0mdeleteEntireBP\u001b[0m\u001b[1;33m(\u001b[0m\u001b[0mnewHeap\u001b[0m\u001b[1;33m)\u001b[0m\u001b[1;33m\u001b[0m\u001b[1;33m\u001b[0m\u001b[0m\n\u001b[1;32m----> 2\u001b[1;33m \u001b[0mlevelOrderTraversal\u001b[0m\u001b[1;33m(\u001b[0m\u001b[0mnewHeap\u001b[0m\u001b[1;33m)\u001b[0m\u001b[1;33m\u001b[0m\u001b[1;33m\u001b[0m\u001b[0m\n\u001b[0m",
      "\u001b[1;32m<ipython-input-5-c332cd485966>\u001b[0m in \u001b[0;36mlevelOrderTraversal\u001b[1;34m(rootNode)\u001b[0m\n\u001b[0;32m     46\u001b[0m     \u001b[1;32melse\u001b[0m\u001b[1;33m:\u001b[0m\u001b[1;33m\u001b[0m\u001b[1;33m\u001b[0m\u001b[0m\n\u001b[0;32m     47\u001b[0m         \u001b[1;32mfor\u001b[0m \u001b[0mi\u001b[0m \u001b[1;32min\u001b[0m \u001b[0mrange\u001b[0m \u001b[1;33m(\u001b[0m\u001b[1;36m1\u001b[0m\u001b[1;33m,\u001b[0m \u001b[0mrootNode\u001b[0m\u001b[1;33m.\u001b[0m\u001b[0mheapSize\u001b[0m\u001b[1;33m+\u001b[0m\u001b[1;36m1\u001b[0m\u001b[1;33m)\u001b[0m\u001b[1;33m:\u001b[0m\u001b[1;33m\u001b[0m\u001b[1;33m\u001b[0m\u001b[0m\n\u001b[1;32m---> 48\u001b[1;33m             \u001b[0mprint\u001b[0m\u001b[1;33m(\u001b[0m\u001b[0mrootNode\u001b[0m\u001b[1;33m.\u001b[0m\u001b[0mcustomList\u001b[0m\u001b[1;33m[\u001b[0m\u001b[0mi\u001b[0m\u001b[1;33m]\u001b[0m\u001b[1;33m)\u001b[0m\u001b[1;33m\u001b[0m\u001b[1;33m\u001b[0m\u001b[0m\n\u001b[0m\u001b[0;32m     49\u001b[0m \u001b[1;33m\u001b[0m\u001b[0m\n\u001b[0;32m     50\u001b[0m \u001b[1;31m#heapify\u001b[0m\u001b[1;33m\u001b[0m\u001b[1;33m\u001b[0m\u001b[1;33m\u001b[0m\u001b[0m\n",
      "\u001b[1;31mTypeError\u001b[0m: 'NoneType' object is not subscriptable"
     ]
    }
   ],
   "source": [
    "deleteEntireBP(newHeap)\n",
    "levelOrderTraversal(newHeap)"
   ]
  },
  {
   "cell_type": "code",
   "execution_count": null,
   "metadata": {},
   "outputs": [],
   "source": []
  }
 ],
 "metadata": {
  "kernelspec": {
   "display_name": "Python 3",
   "language": "python",
   "name": "python3"
  },
  "language_info": {
   "codemirror_mode": {
    "name": "ipython",
    "version": 3
   },
   "file_extension": ".py",
   "mimetype": "text/x-python",
   "name": "python",
   "nbconvert_exporter": "python",
   "pygments_lexer": "ipython3",
   "version": "3.7.6"
  }
 },
 "nbformat": 4,
 "nbformat_minor": 4
}
