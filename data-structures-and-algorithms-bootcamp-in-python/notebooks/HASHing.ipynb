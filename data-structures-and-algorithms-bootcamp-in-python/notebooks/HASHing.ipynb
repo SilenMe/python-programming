{
 "cells": [
  {
   "cell_type": "markdown",
   "metadata": {},
   "source": [
    "#### hashing is a methode of sorting and indexing data\n",
    "##### hashing is best for searching\n",
    "### terms:\n",
    "1. hash function:  it can be used for mapping arbitary data size to fix size data size\n",
    "2. key: input data: provided by user\n",
    "3. hash value: return of hash function\n",
    "4. hash table: \n",
    "5. collision: in case of same hash value\n",
    "### properties of hash function:\n",
    "1. it distributes hash value uniformly across hash table(less collision)\n",
    "2. it has to use all the input data\n",
    "#### collision resolution techniques:\n",
    "1. direct chaining = uses linklists reference \n",
    "2. open adressing: probing(linear probing, quadratic probing: value+ 1*1/2*2/.., double hashing)\n",
    "##### if hash table is full:\n",
    "no problem in direct chaining bz of linked list, in other cases we just doubles the size of hash table and recall the hashing for current key\n",
    "\n",
    "#### which one should we choose for collision:\n",
    "1. linked list becomes very large to produce O(n)\n",
    "2. exsoution of hash table requires recomputation and affect performance\n",
    "so when input size is known then use open adressing, when deletion is frequent then use direct chaining(bz linear probig can use 2 and 2 goes for 2nd and 3rd, if 2nd got deleted then no meaning of probing bz u will not found in reverse search)\n",
    "\n",
    "\n",
    "### practical use of hashing\n",
    "1. password storing\n",
    "2. file system\n",
    "\n",
    "### pros and cons\n",
    "1. better in searching insertion and deletion\n",
    "2. u need very good hash function\n",
    "\n"
   ]
  },
  {
   "cell_type": "code",
   "execution_count": null,
   "metadata": {},
   "outputs": [],
   "source": []
  }
 ],
 "metadata": {
  "kernelspec": {
   "display_name": "Python 3",
   "language": "python",
   "name": "python3"
  },
  "language_info": {
   "codemirror_mode": {
    "name": "ipython",
    "version": 3
   },
   "file_extension": ".py",
   "mimetype": "text/x-python",
   "name": "python",
   "nbconvert_exporter": "python",
   "pygments_lexer": "ipython3",
   "version": "3.7.6"
  }
 },
 "nbformat": 4,
 "nbformat_minor": 4
}
